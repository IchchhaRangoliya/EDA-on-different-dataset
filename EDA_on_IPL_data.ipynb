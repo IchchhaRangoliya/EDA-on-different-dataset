{
  "cells": [
    {
      "cell_type": "markdown",
      "metadata": {
        "id": "view-in-github",
        "colab_type": "text"
      },
      "source": [
        "<a href=\"https://colab.research.google.com/github/IchchhaRangoliya/EDA-on-different-dataset/blob/main/EDA_on_IPL_data.ipynb\" target=\"_parent\"><img src=\"https://colab.research.google.com/assets/colab-badge.svg\" alt=\"Open In Colab\"/></a>"
      ]
    },
    {
      "cell_type": "code",
      "execution_count": null,
      "id": "55b179ee",
      "metadata": {
        "id": "55b179ee"
      },
      "outputs": [],
      "source": [
        "import numpy as np\n",
        "import pandas as pd\n",
        "import seaborn as sns\n",
        "import matplotlib.pyplot as plt"
      ]
    },
    {
      "cell_type": "code",
      "execution_count": null,
      "id": "90481ab2",
      "metadata": {
        "id": "90481ab2",
        "outputId": "14ace138-3079-42c5-c244-12f7ae68078a"
      },
      "outputs": [
        {
          "data": {
            "text/html": [
              "<div>\n",
              "<style scoped>\n",
              "    .dataframe tbody tr th:only-of-type {\n",
              "        vertical-align: middle;\n",
              "    }\n",
              "\n",
              "    .dataframe tbody tr th {\n",
              "        vertical-align: top;\n",
              "    }\n",
              "\n",
              "    .dataframe thead th {\n",
              "        text-align: right;\n",
              "    }\n",
              "</style>\n",
              "<table border=\"1\" class=\"dataframe\">\n",
              "  <thead>\n",
              "    <tr style=\"text-align: right;\">\n",
              "      <th></th>\n",
              "      <th>id</th>\n",
              "      <th>season</th>\n",
              "      <th>city</th>\n",
              "      <th>date</th>\n",
              "      <th>team1</th>\n",
              "      <th>team2</th>\n",
              "      <th>toss_winner</th>\n",
              "      <th>toss_decision</th>\n",
              "      <th>result</th>\n",
              "      <th>dl_applied</th>\n",
              "      <th>winner</th>\n",
              "      <th>win_by_runs</th>\n",
              "      <th>win_by_wickets</th>\n",
              "      <th>player_of_match</th>\n",
              "      <th>venue</th>\n",
              "      <th>umpire1</th>\n",
              "      <th>umpire2</th>\n",
              "      <th>umpire3</th>\n",
              "    </tr>\n",
              "  </thead>\n",
              "  <tbody>\n",
              "    <tr>\n",
              "      <th>0</th>\n",
              "      <td>1</td>\n",
              "      <td>2017</td>\n",
              "      <td>Hyderabad</td>\n",
              "      <td>2017-04-05</td>\n",
              "      <td>Sunrisers Hyderabad</td>\n",
              "      <td>Royal Challengers Bangalore</td>\n",
              "      <td>Royal Challengers Bangalore</td>\n",
              "      <td>field</td>\n",
              "      <td>normal</td>\n",
              "      <td>0</td>\n",
              "      <td>Sunrisers Hyderabad</td>\n",
              "      <td>35</td>\n",
              "      <td>0</td>\n",
              "      <td>Yuvraj Singh</td>\n",
              "      <td>Rajiv Gandhi International Stadium, Uppal</td>\n",
              "      <td>AY Dandekar</td>\n",
              "      <td>NJ Llong</td>\n",
              "      <td>NaN</td>\n",
              "    </tr>\n",
              "    <tr>\n",
              "      <th>1</th>\n",
              "      <td>2</td>\n",
              "      <td>2017</td>\n",
              "      <td>Pune</td>\n",
              "      <td>2017-04-06</td>\n",
              "      <td>Mumbai Indians</td>\n",
              "      <td>Rising Pune Supergiant</td>\n",
              "      <td>Rising Pune Supergiant</td>\n",
              "      <td>field</td>\n",
              "      <td>normal</td>\n",
              "      <td>0</td>\n",
              "      <td>Rising Pune Supergiant</td>\n",
              "      <td>0</td>\n",
              "      <td>7</td>\n",
              "      <td>SPD Smith</td>\n",
              "      <td>Maharashtra Cricket Association Stadium</td>\n",
              "      <td>A Nand Kishore</td>\n",
              "      <td>S Ravi</td>\n",
              "      <td>NaN</td>\n",
              "    </tr>\n",
              "    <tr>\n",
              "      <th>2</th>\n",
              "      <td>3</td>\n",
              "      <td>2017</td>\n",
              "      <td>Rajkot</td>\n",
              "      <td>2017-04-07</td>\n",
              "      <td>Gujarat Lions</td>\n",
              "      <td>Kolkata Knight Riders</td>\n",
              "      <td>Kolkata Knight Riders</td>\n",
              "      <td>field</td>\n",
              "      <td>normal</td>\n",
              "      <td>0</td>\n",
              "      <td>Kolkata Knight Riders</td>\n",
              "      <td>0</td>\n",
              "      <td>10</td>\n",
              "      <td>CA Lynn</td>\n",
              "      <td>Saurashtra Cricket Association Stadium</td>\n",
              "      <td>Nitin Menon</td>\n",
              "      <td>CK Nandan</td>\n",
              "      <td>NaN</td>\n",
              "    </tr>\n",
              "    <tr>\n",
              "      <th>3</th>\n",
              "      <td>4</td>\n",
              "      <td>2017</td>\n",
              "      <td>Indore</td>\n",
              "      <td>2017-04-08</td>\n",
              "      <td>Rising Pune Supergiant</td>\n",
              "      <td>Kings XI Punjab</td>\n",
              "      <td>Kings XI Punjab</td>\n",
              "      <td>field</td>\n",
              "      <td>normal</td>\n",
              "      <td>0</td>\n",
              "      <td>Kings XI Punjab</td>\n",
              "      <td>0</td>\n",
              "      <td>6</td>\n",
              "      <td>GJ Maxwell</td>\n",
              "      <td>Holkar Cricket Stadium</td>\n",
              "      <td>AK Chaudhary</td>\n",
              "      <td>C Shamshuddin</td>\n",
              "      <td>NaN</td>\n",
              "    </tr>\n",
              "    <tr>\n",
              "      <th>4</th>\n",
              "      <td>5</td>\n",
              "      <td>2017</td>\n",
              "      <td>Bangalore</td>\n",
              "      <td>2017-04-08</td>\n",
              "      <td>Royal Challengers Bangalore</td>\n",
              "      <td>Delhi Daredevils</td>\n",
              "      <td>Royal Challengers Bangalore</td>\n",
              "      <td>bat</td>\n",
              "      <td>normal</td>\n",
              "      <td>0</td>\n",
              "      <td>Royal Challengers Bangalore</td>\n",
              "      <td>15</td>\n",
              "      <td>0</td>\n",
              "      <td>KM Jadhav</td>\n",
              "      <td>M Chinnaswamy Stadium</td>\n",
              "      <td>NaN</td>\n",
              "      <td>NaN</td>\n",
              "      <td>NaN</td>\n",
              "    </tr>\n",
              "  </tbody>\n",
              "</table>\n",
              "</div>"
            ],
            "text/plain": [
              "   id  season       city        date                        team1  \\\n",
              "0   1    2017  Hyderabad  2017-04-05          Sunrisers Hyderabad   \n",
              "1   2    2017       Pune  2017-04-06               Mumbai Indians   \n",
              "2   3    2017     Rajkot  2017-04-07                Gujarat Lions   \n",
              "3   4    2017     Indore  2017-04-08       Rising Pune Supergiant   \n",
              "4   5    2017  Bangalore  2017-04-08  Royal Challengers Bangalore   \n",
              "\n",
              "                         team2                  toss_winner toss_decision  \\\n",
              "0  Royal Challengers Bangalore  Royal Challengers Bangalore         field   \n",
              "1       Rising Pune Supergiant       Rising Pune Supergiant         field   \n",
              "2        Kolkata Knight Riders        Kolkata Knight Riders         field   \n",
              "3              Kings XI Punjab              Kings XI Punjab         field   \n",
              "4             Delhi Daredevils  Royal Challengers Bangalore           bat   \n",
              "\n",
              "   result  dl_applied                       winner  win_by_runs  \\\n",
              "0  normal           0          Sunrisers Hyderabad           35   \n",
              "1  normal           0       Rising Pune Supergiant            0   \n",
              "2  normal           0        Kolkata Knight Riders            0   \n",
              "3  normal           0              Kings XI Punjab            0   \n",
              "4  normal           0  Royal Challengers Bangalore           15   \n",
              "\n",
              "   win_by_wickets player_of_match                                      venue  \\\n",
              "0               0    Yuvraj Singh  Rajiv Gandhi International Stadium, Uppal   \n",
              "1               7       SPD Smith    Maharashtra Cricket Association Stadium   \n",
              "2              10         CA Lynn     Saurashtra Cricket Association Stadium   \n",
              "3               6      GJ Maxwell                     Holkar Cricket Stadium   \n",
              "4               0       KM Jadhav                      M Chinnaswamy Stadium   \n",
              "\n",
              "          umpire1        umpire2 umpire3  \n",
              "0     AY Dandekar       NJ Llong     NaN  \n",
              "1  A Nand Kishore         S Ravi     NaN  \n",
              "2     Nitin Menon      CK Nandan     NaN  \n",
              "3    AK Chaudhary  C Shamshuddin     NaN  \n",
              "4             NaN            NaN     NaN  "
            ]
          },
          "execution_count": 2,
          "metadata": {},
          "output_type": "execute_result"
        }
      ],
      "source": [
        "df=pd.read_csv(\"matches.csv\")\n",
        "df.head()"
      ]
    },
    {
      "cell_type": "code",
      "execution_count": null,
      "id": "64fa25cb",
      "metadata": {
        "id": "64fa25cb",
        "outputId": "62c9087a-d7cd-4534-9227-849266236b78"
      },
      "outputs": [
        {
          "name": "stdout",
          "output_type": "stream",
          "text": [
            "<class 'pandas.core.frame.DataFrame'>\n",
            "RangeIndex: 756 entries, 0 to 755\n",
            "Data columns (total 18 columns):\n",
            " #   Column           Non-Null Count  Dtype \n",
            "---  ------           --------------  ----- \n",
            " 0   id               756 non-null    int64 \n",
            " 1   season           756 non-null    int64 \n",
            " 2   city             749 non-null    object\n",
            " 3   date             756 non-null    object\n",
            " 4   team1            756 non-null    object\n",
            " 5   team2            756 non-null    object\n",
            " 6   toss_winner      756 non-null    object\n",
            " 7   toss_decision    756 non-null    object\n",
            " 8   result           756 non-null    object\n",
            " 9   dl_applied       756 non-null    int64 \n",
            " 10  winner           752 non-null    object\n",
            " 11  win_by_runs      756 non-null    int64 \n",
            " 12  win_by_wickets   756 non-null    int64 \n",
            " 13  player_of_match  752 non-null    object\n",
            " 14  venue            756 non-null    object\n",
            " 15  umpire1          754 non-null    object\n",
            " 16  umpire2          754 non-null    object\n",
            " 17  umpire3          119 non-null    object\n",
            "dtypes: int64(5), object(13)\n",
            "memory usage: 106.4+ KB\n"
          ]
        }
      ],
      "source": [
        "df.info()"
      ]
    },
    {
      "cell_type": "code",
      "execution_count": null,
      "id": "c5df610d",
      "metadata": {
        "id": "c5df610d",
        "outputId": "159a159d-0cee-4cf7-eb4a-51cd1004b3ad"
      },
      "outputs": [
        {
          "data": {
            "text/plain": [
              "id                   0\n",
              "season               0\n",
              "city                 7\n",
              "date                 0\n",
              "team1                0\n",
              "team2                0\n",
              "toss_winner          0\n",
              "toss_decision        0\n",
              "result               0\n",
              "dl_applied           0\n",
              "winner               4\n",
              "win_by_runs          0\n",
              "win_by_wickets       0\n",
              "player_of_match      4\n",
              "venue                0\n",
              "umpire1              2\n",
              "umpire2              2\n",
              "umpire3            637\n",
              "dtype: int64"
            ]
          },
          "execution_count": 4,
          "metadata": {},
          "output_type": "execute_result"
        }
      ],
      "source": [
        "df.isnull().sum()"
      ]
    },
    {
      "cell_type": "code",
      "execution_count": null,
      "id": "6a5745e7",
      "metadata": {
        "id": "6a5745e7",
        "outputId": "58510089-1505-4c81-c4b7-49d20d65872d"
      },
      "outputs": [
        {
          "data": {
            "text/plain": [
              "(756, 18)"
            ]
          },
          "execution_count": 5,
          "metadata": {},
          "output_type": "execute_result"
        }
      ],
      "source": [
        "df.shape"
      ]
    },
    {
      "cell_type": "code",
      "execution_count": null,
      "id": "8526ff5e",
      "metadata": {
        "id": "8526ff5e",
        "outputId": "bd6f252c-af43-4c02-a3a2-643ba435da8d"
      },
      "outputs": [
        {
          "data": {
            "text/plain": [
              "CH Gayle          21\n",
              "AB de Villiers    20\n",
              "RG Sharma         17\n",
              "MS Dhoni          17\n",
              "DA Warner         17\n",
              "                  ..\n",
              "PD Collingwood     1\n",
              "NV Ojha            1\n",
              "AC Voges           1\n",
              "J Theron           1\n",
              "S Hetmyer          1\n",
              "Name: player_of_match, Length: 226, dtype: int64"
            ]
          },
          "execution_count": 6,
          "metadata": {},
          "output_type": "execute_result"
        }
      ],
      "source": [
        "# getting the frequency of most man of the match awards\n",
        "df[\"player_of_match\"].value_counts()"
      ]
    },
    {
      "cell_type": "code",
      "execution_count": null,
      "id": "935c80d8",
      "metadata": {
        "id": "935c80d8",
        "outputId": "a61f1c6b-7391-4af5-da41-409333631c14"
      },
      "outputs": [
        {
          "data": {
            "text/plain": [
              "CH Gayle          21\n",
              "AB de Villiers    20\n",
              "RG Sharma         17\n",
              "MS Dhoni          17\n",
              "DA Warner         17\n",
              "YK Pathan         16\n",
              "SR Watson         15\n",
              "SK Raina          14\n",
              "G Gambhir         13\n",
              "MEK Hussey        12\n",
              "Name: player_of_match, dtype: int64"
            ]
          },
          "execution_count": 7,
          "metadata": {},
          "output_type": "execute_result"
        }
      ],
      "source": [
        "# getting the top 10 players with the match awards\n",
        "df[\"player_of_match\"].value_counts()[0:10]"
      ]
    },
    {
      "cell_type": "code",
      "execution_count": null,
      "id": "5714b213",
      "metadata": {
        "id": "5714b213",
        "outputId": "f0bb78cb-0152-42a0-9d4e-82821ee6256e"
      },
      "outputs": [
        {
          "data": {
            "text/plain": [
              "['CH Gayle',\n",
              " 'AB de Villiers',\n",
              " 'RG Sharma',\n",
              " 'MS Dhoni',\n",
              " 'DA Warner',\n",
              " 'YK Pathan',\n",
              " 'SR Watson',\n",
              " 'SK Raina',\n",
              " 'G Gambhir',\n",
              " 'MEK Hussey']"
            ]
          },
          "execution_count": 8,
          "metadata": {},
          "output_type": "execute_result"
        }
      ],
      "source": [
        "list(df[\"player_of_match\"].value_counts()[0:10].keys())"
      ]
    },
    {
      "cell_type": "code",
      "execution_count": null,
      "id": "8263df88",
      "metadata": {
        "id": "8263df88"
      },
      "outputs": [],
      "source": [
        "#  make a bar plot for the top 5 players with the most of the match awards"
      ]
    },
    {
      "cell_type": "code",
      "execution_count": null,
      "id": "aef1d947",
      "metadata": {
        "id": "aef1d947",
        "outputId": "ade3bab3-f31f-43d4-ed83-5d124509d23f"
      },
      "outputs": [
        {
          "data": {
            "text/plain": [
              "['CH Gayle', 'AB de Villiers', 'RG Sharma', 'MS Dhoni', 'DA Warner']"
            ]
          },
          "execution_count": 10,
          "metadata": {},
          "output_type": "execute_result"
        }
      ],
      "source": [
        "x=list(df[\"player_of_match\"].value_counts()[0:5].keys())\n",
        "x"
      ]
    },
    {
      "cell_type": "code",
      "execution_count": null,
      "id": "03a2aabc",
      "metadata": {
        "id": "03a2aabc",
        "outputId": "c167b3f5-0a71-48ee-b42f-c6895aa6bb96"
      },
      "outputs": [
        {
          "data": {
            "text/plain": [
              "[21, 20, 17, 17, 17]"
            ]
          },
          "execution_count": 11,
          "metadata": {},
          "output_type": "execute_result"
        }
      ],
      "source": [
        "y=list(df[\"player_of_match\"].value_counts()[0:5])\n",
        "y"
      ]
    },
    {
      "cell_type": "code",
      "execution_count": null,
      "id": "f66e00c5",
      "metadata": {
        "id": "f66e00c5",
        "outputId": "43035b02-4639-4de6-d185-adafd3256912"
      },
      "outputs": [
        {
          "data": {
            "image/png": "[encoded data removed]",
            "text/plain": [
              "<Figure size 576x432 with 1 Axes>"
            ]
          },
          "metadata": {
            "needs_background": "light"
          },
          "output_type": "display_data"
        }
      ],
      "source": [
        "plt.figure(figsize=(8,6))\n",
        "plt.bar(x,y,color=\"purple\")\n",
        "plt.show()"
      ]
    },
    {
      "cell_type": "code",
      "execution_count": null,
      "id": "0e0dcf27",
      "metadata": {
        "id": "0e0dcf27",
        "outputId": "0633caa0-2725-423b-a75d-d6a9ca2268fd"
      },
      "outputs": [
        {
          "data": {
            "text/plain": [
              "normal       743\n",
              "tie            9\n",
              "no result      4\n",
              "Name: result, dtype: int64"
            ]
          },
          "execution_count": 13,
          "metadata": {},
          "output_type": "execute_result"
        }
      ],
      "source": [
        "# getting the frequency of the result column\n",
        "df[\"result\"].value_counts()"
      ]
    },
    {
      "cell_type": "code",
      "execution_count": null,
      "id": "93ad93b9",
      "metadata": {
        "id": "93ad93b9",
        "outputId": "9333524d-9898-42cb-91b0-c0b5a705b985"
      },
      "outputs": [
        {
          "data": {
            "text/plain": [
              "Mumbai Indians                 109\n",
              "Chennai Super Kings            100\n",
              "Kolkata Knight Riders           92\n",
              "Royal Challengers Bangalore     84\n",
              "Kings XI Punjab                 82\n",
              "Rajasthan Royals                75\n",
              "Delhi Daredevils                67\n",
              "Sunrisers Hyderabad             58\n",
              "Deccan Chargers                 29\n",
              "Gujarat Lions                   13\n",
              "Pune Warriors                   12\n",
              "Rising Pune Supergiant          10\n",
              "Delhi Capitals                  10\n",
              "Kochi Tuskers Kerala             6\n",
              "Rising Pune Supergiants          5\n",
              "Name: winner, dtype: int64"
            ]
          },
          "execution_count": 14,
          "metadata": {},
          "output_type": "execute_result"
        }
      ],
      "source": [
        "# getting frequency of winner column\n",
        "df[\"winner\"].value_counts()"
      ]
    },
    {
      "cell_type": "code",
      "execution_count": null,
      "id": "9749df3f",
      "metadata": {
        "id": "9749df3f",
        "outputId": "b999d42a-042e-426a-b73f-6a7f4a844750"
      },
      "outputs": [
        {
          "data": {
            "text/html": [
              "<div>\n",
              "<style scoped>\n",
              "    .dataframe tbody tr th:only-of-type {\n",
              "        vertical-align: middle;\n",
              "    }\n",
              "\n",
              "    .dataframe tbody tr th {\n",
              "        vertical-align: top;\n",
              "    }\n",
              "\n",
              "    .dataframe thead th {\n",
              "        text-align: right;\n",
              "    }\n",
              "</style>\n",
              "<table border=\"1\" class=\"dataframe\">\n",
              "  <thead>\n",
              "    <tr style=\"text-align: right;\">\n",
              "      <th></th>\n",
              "      <th>id</th>\n",
              "      <th>season</th>\n",
              "      <th>city</th>\n",
              "      <th>date</th>\n",
              "      <th>team1</th>\n",
              "      <th>team2</th>\n",
              "      <th>toss_winner</th>\n",
              "      <th>toss_decision</th>\n",
              "      <th>result</th>\n",
              "      <th>dl_applied</th>\n",
              "      <th>winner</th>\n",
              "      <th>win_by_runs</th>\n",
              "      <th>win_by_wickets</th>\n",
              "      <th>player_of_match</th>\n",
              "      <th>venue</th>\n",
              "      <th>umpire1</th>\n",
              "      <th>umpire2</th>\n",
              "      <th>umpire3</th>\n",
              "    </tr>\n",
              "  </thead>\n",
              "  <tbody>\n",
              "    <tr>\n",
              "      <th>0</th>\n",
              "      <td>1</td>\n",
              "      <td>2017</td>\n",
              "      <td>Hyderabad</td>\n",
              "      <td>2017-04-05</td>\n",
              "      <td>Sunrisers Hyderabad</td>\n",
              "      <td>Royal Challengers Bangalore</td>\n",
              "      <td>Royal Challengers Bangalore</td>\n",
              "      <td>field</td>\n",
              "      <td>normal</td>\n",
              "      <td>0</td>\n",
              "      <td>Sunrisers Hyderabad</td>\n",
              "      <td>35</td>\n",
              "      <td>0</td>\n",
              "      <td>Yuvraj Singh</td>\n",
              "      <td>Rajiv Gandhi International Stadium, Uppal</td>\n",
              "      <td>AY Dandekar</td>\n",
              "      <td>NJ Llong</td>\n",
              "      <td>NaN</td>\n",
              "    </tr>\n",
              "    <tr>\n",
              "      <th>4</th>\n",
              "      <td>5</td>\n",
              "      <td>2017</td>\n",
              "      <td>Bangalore</td>\n",
              "      <td>2017-04-08</td>\n",
              "      <td>Royal Challengers Bangalore</td>\n",
              "      <td>Delhi Daredevils</td>\n",
              "      <td>Royal Challengers Bangalore</td>\n",
              "      <td>bat</td>\n",
              "      <td>normal</td>\n",
              "      <td>0</td>\n",
              "      <td>Royal Challengers Bangalore</td>\n",
              "      <td>15</td>\n",
              "      <td>0</td>\n",
              "      <td>KM Jadhav</td>\n",
              "      <td>M Chinnaswamy Stadium</td>\n",
              "      <td>NaN</td>\n",
              "      <td>NaN</td>\n",
              "      <td>NaN</td>\n",
              "    </tr>\n",
              "    <tr>\n",
              "      <th>8</th>\n",
              "      <td>9</td>\n",
              "      <td>2017</td>\n",
              "      <td>Pune</td>\n",
              "      <td>2017-04-11</td>\n",
              "      <td>Delhi Daredevils</td>\n",
              "      <td>Rising Pune Supergiant</td>\n",
              "      <td>Rising Pune Supergiant</td>\n",
              "      <td>field</td>\n",
              "      <td>normal</td>\n",
              "      <td>0</td>\n",
              "      <td>Delhi Daredevils</td>\n",
              "      <td>97</td>\n",
              "      <td>0</td>\n",
              "      <td>SV Samson</td>\n",
              "      <td>Maharashtra Cricket Association Stadium</td>\n",
              "      <td>AY Dandekar</td>\n",
              "      <td>S Ravi</td>\n",
              "      <td>NaN</td>\n",
              "    </tr>\n",
              "    <tr>\n",
              "      <th>13</th>\n",
              "      <td>14</td>\n",
              "      <td>2017</td>\n",
              "      <td>Kolkata</td>\n",
              "      <td>2017-04-15</td>\n",
              "      <td>Kolkata Knight Riders</td>\n",
              "      <td>Sunrisers Hyderabad</td>\n",
              "      <td>Sunrisers Hyderabad</td>\n",
              "      <td>field</td>\n",
              "      <td>normal</td>\n",
              "      <td>0</td>\n",
              "      <td>Kolkata Knight Riders</td>\n",
              "      <td>17</td>\n",
              "      <td>0</td>\n",
              "      <td>RV Uthappa</td>\n",
              "      <td>Eden Gardens</td>\n",
              "      <td>AY Dandekar</td>\n",
              "      <td>NJ Llong</td>\n",
              "      <td>NaN</td>\n",
              "    </tr>\n",
              "    <tr>\n",
              "      <th>14</th>\n",
              "      <td>15</td>\n",
              "      <td>2017</td>\n",
              "      <td>Delhi</td>\n",
              "      <td>2017-04-15</td>\n",
              "      <td>Delhi Daredevils</td>\n",
              "      <td>Kings XI Punjab</td>\n",
              "      <td>Delhi Daredevils</td>\n",
              "      <td>bat</td>\n",
              "      <td>normal</td>\n",
              "      <td>0</td>\n",
              "      <td>Delhi Daredevils</td>\n",
              "      <td>51</td>\n",
              "      <td>0</td>\n",
              "      <td>CJ Anderson</td>\n",
              "      <td>Feroz Shah Kotla</td>\n",
              "      <td>YC Barde</td>\n",
              "      <td>Nitin Menon</td>\n",
              "      <td>NaN</td>\n",
              "    </tr>\n",
              "  </tbody>\n",
              "</table>\n",
              "</div>"
            ],
            "text/plain": [
              "    id  season       city        date                        team1  \\\n",
              "0    1    2017  Hyderabad  2017-04-05          Sunrisers Hyderabad   \n",
              "4    5    2017  Bangalore  2017-04-08  Royal Challengers Bangalore   \n",
              "8    9    2017       Pune  2017-04-11             Delhi Daredevils   \n",
              "13  14    2017    Kolkata  2017-04-15        Kolkata Knight Riders   \n",
              "14  15    2017      Delhi  2017-04-15             Delhi Daredevils   \n",
              "\n",
              "                          team2                  toss_winner toss_decision  \\\n",
              "0   Royal Challengers Bangalore  Royal Challengers Bangalore         field   \n",
              "4              Delhi Daredevils  Royal Challengers Bangalore           bat   \n",
              "8        Rising Pune Supergiant       Rising Pune Supergiant         field   \n",
              "13          Sunrisers Hyderabad          Sunrisers Hyderabad         field   \n",
              "14              Kings XI Punjab             Delhi Daredevils           bat   \n",
              "\n",
              "    result  dl_applied                       winner  win_by_runs  \\\n",
              "0   normal           0          Sunrisers Hyderabad           35   \n",
              "4   normal           0  Royal Challengers Bangalore           15   \n",
              "8   normal           0             Delhi Daredevils           97   \n",
              "13  normal           0        Kolkata Knight Riders           17   \n",
              "14  normal           0             Delhi Daredevils           51   \n",
              "\n",
              "    win_by_wickets player_of_match                                      venue  \\\n",
              "0                0    Yuvraj Singh  Rajiv Gandhi International Stadium, Uppal   \n",
              "4                0       KM Jadhav                      M Chinnaswamy Stadium   \n",
              "8                0       SV Samson    Maharashtra Cricket Association Stadium   \n",
              "13               0      RV Uthappa                               Eden Gardens   \n",
              "14               0     CJ Anderson                           Feroz Shah Kotla   \n",
              "\n",
              "        umpire1      umpire2 umpire3  \n",
              "0   AY Dandekar     NJ Llong     NaN  \n",
              "4           NaN          NaN     NaN  \n",
              "8   AY Dandekar       S Ravi     NaN  \n",
              "13  AY Dandekar     NJ Llong     NaN  \n",
              "14     YC Barde  Nitin Menon     NaN  "
            ]
          },
          "execution_count": 22,
          "metadata": {},
          "output_type": "execute_result"
        }
      ],
      "source": [
        "# extracting the record where a team won batting first\n",
        "batting_first=df[df[\"win_by_runs\"]!=0]\n",
        "batting_first.head()"
      ]
    },
    {
      "cell_type": "code",
      "execution_count": null,
      "id": "39848035",
      "metadata": {
        "id": "39848035"
      },
      "outputs": [],
      "source": [
        "# batting_first=df[[\"win_by_runs\"]]!=0\n",
        "# batting_first"
      ]
    },
    {
      "cell_type": "code",
      "execution_count": null,
      "id": "782f9f09",
      "metadata": {
        "id": "782f9f09"
      },
      "outputs": [],
      "source": [
        "# for i in range(len(df)):\n",
        "#     a=df[\"win_by_runs\"][i]\n",
        "#     b=df[\"winner\"][i]\n",
        "#     if a!=0:\n",
        "#         print(df.iloc[[i]])"
      ]
    },
    {
      "cell_type": "code",
      "execution_count": null,
      "id": "391c42a4",
      "metadata": {
        "id": "391c42a4",
        "outputId": "14bcb13d-27fe-49e6-c2e4-0cfded72d665"
      },
      "outputs": [
        {
          "data": {
            "image/png": "[encoded data removed]",
            "text/plain": [
              "<Figure size 432x288 with 1 Axes>"
            ]
          },
          "metadata": {
            "needs_background": "light"
          },
          "output_type": "display_data"
        }
      ],
      "source": [
        "plt.hist(batting_first[\"win_by_runs\"])\n",
        "plt.show()"
      ]
    },
    {
      "cell_type": "code",
      "execution_count": null,
      "id": "08338205",
      "metadata": {
        "id": "08338205"
      },
      "outputs": [],
      "source": [
        "# finding out the number of wins with respect to each team after batting first"
      ]
    },
    {
      "cell_type": "code",
      "execution_count": null,
      "id": "6853755b",
      "metadata": {
        "id": "6853755b",
        "outputId": "0bfb4850-76db-40d5-dc5b-60819cff8bc1"
      },
      "outputs": [
        {
          "data": {
            "text/plain": [
              "Mumbai Indians                 57\n",
              "Chennai Super Kings            52\n",
              "Kings XI Punjab                38\n",
              "Kolkata Knight Riders          36\n",
              "Royal Challengers Bangalore    35\n",
              "Sunrisers Hyderabad            30\n",
              "Rajasthan Royals               27\n",
              "Delhi Daredevils               25\n",
              "Deccan Chargers                18\n",
              "Pune Warriors                   6\n",
              "Rising Pune Supergiant          5\n",
              "Delhi Capitals                  3\n",
              "Kochi Tuskers Kerala            2\n",
              "Rising Pune Supergiants         2\n",
              "Gujarat Lions                   1\n",
              "Name: winner, dtype: int64"
            ]
          },
          "execution_count": 24,
          "metadata": {},
          "output_type": "execute_result"
        }
      ],
      "source": [
        "batting_first[\"winner\"].value_counts()"
      ]
    },
    {
      "cell_type": "code",
      "execution_count": null,
      "id": "b4e9dc98",
      "metadata": {
        "id": "b4e9dc98"
      },
      "outputs": [],
      "source": [
        "# making a bar plot for top 3 teams with most wins after batting first"
      ]
    },
    {
      "cell_type": "code",
      "execution_count": null,
      "id": "6ae8e322",
      "metadata": {
        "id": "6ae8e322",
        "outputId": "9aaaa69c-1254-4219-d7f8-ba4c987e0297"
      },
      "outputs": [
        {
          "data": {
            "text/plain": [
              "Index(['Mumbai Indians', 'Chennai Super Kings', 'Kings XI Punjab'], dtype='object')"
            ]
          },
          "execution_count": 37,
          "metadata": {},
          "output_type": "execute_result"
        }
      ],
      "source": [
        "x=batting_first[\"winner\"].value_counts()[0:3].keys()\n",
        "x"
      ]
    },
    {
      "cell_type": "code",
      "execution_count": null,
      "id": "6b85a5ab",
      "metadata": {
        "id": "6b85a5ab",
        "outputId": "1164e8bd-1061-4e7d-e714-591ee74231f9"
      },
      "outputs": [
        {
          "data": {
            "text/plain": [
              "Mumbai Indians         57\n",
              "Chennai Super Kings    52\n",
              "Kings XI Punjab        38\n",
              "Name: winner, dtype: int64"
            ]
          },
          "execution_count": 40,
          "metadata": {},
          "output_type": "execute_result"
        }
      ],
      "source": [
        "y=batting_first[\"winner\"].value_counts()[0:3]\n",
        "y"
      ]
    },
    {
      "cell_type": "code",
      "execution_count": null,
      "id": "4f0b3eaf",
      "metadata": {
        "id": "4f0b3eaf",
        "outputId": "c1727957-08d0-4265-e5a5-1f6cece6fe92"
      },
      "outputs": [
        {
          "data": {
            "image/png": "[encoded data removed]",
            "text/plain": [
              "<Figure size 432x288 with 1 Axes>"
            ]
          },
          "metadata": {
            "needs_background": "light"
          },
          "output_type": "display_data"
        }
      ],
      "source": [
        "plt.bar(x,y,color=\"yellow\")\n",
        "plt.show()"
      ]
    },
    {
      "cell_type": "code",
      "execution_count": null,
      "id": "f2cfffe7",
      "metadata": {
        "id": "f2cfffe7",
        "outputId": "c833d50a-0d87-40cb-a3bc-9b5736648be9"
      },
      "outputs": [
        {
          "data": {
            "image/png": "[encoded data removed]",
            "text/plain": [
              "<Figure size 432x288 with 1 Axes>"
            ]
          },
          "metadata": {},
          "output_type": "display_data"
        }
      ],
      "source": [
        "plt.pie(y,labels=x,autopct=\"%0.1f%%\",pctdistance=0.5,colors=[\"red\",\"orange\",\"green\"])\n",
        "plt.show()"
      ]
    },
    {
      "cell_type": "code",
      "execution_count": null,
      "id": "af174fc3",
      "metadata": {
        "id": "af174fc3"
      },
      "outputs": [],
      "source": [
        "# extracting those records where a team has won after batting second"
      ]
    },
    {
      "cell_type": "code",
      "execution_count": null,
      "id": "31fa6001",
      "metadata": {
        "id": "31fa6001"
      },
      "outputs": [],
      "source": [
        "# batting_second=df[\"win_by_wickets\"].value_counts()"
      ]
    },
    {
      "cell_type": "code",
      "execution_count": null,
      "id": "e138dabc",
      "metadata": {
        "id": "e138dabc"
      },
      "outputs": [],
      "source": [
        "# batting_second"
      ]
    },
    {
      "cell_type": "code",
      "execution_count": null,
      "id": "9135787d",
      "metadata": {
        "id": "9135787d"
      },
      "outputs": [],
      "source": [
        "batting_second=df[df[\"win_by_wickets\"]!=0]"
      ]
    },
    {
      "cell_type": "code",
      "execution_count": null,
      "id": "20ffb0ab",
      "metadata": {
        "id": "20ffb0ab",
        "outputId": "098e655e-f32e-46fb-d73f-49921b9ae56d"
      },
      "outputs": [
        {
          "data": {
            "text/html": [
              "<div>\n",
              "<style scoped>\n",
              "    .dataframe tbody tr th:only-of-type {\n",
              "        vertical-align: middle;\n",
              "    }\n",
              "\n",
              "    .dataframe tbody tr th {\n",
              "        vertical-align: top;\n",
              "    }\n",
              "\n",
              "    .dataframe thead th {\n",
              "        text-align: right;\n",
              "    }\n",
              "</style>\n",
              "<table border=\"1\" class=\"dataframe\">\n",
              "  <thead>\n",
              "    <tr style=\"text-align: right;\">\n",
              "      <th></th>\n",
              "      <th>id</th>\n",
              "      <th>season</th>\n",
              "      <th>city</th>\n",
              "      <th>date</th>\n",
              "      <th>team1</th>\n",
              "      <th>team2</th>\n",
              "      <th>toss_winner</th>\n",
              "      <th>toss_decision</th>\n",
              "      <th>result</th>\n",
              "      <th>dl_applied</th>\n",
              "      <th>winner</th>\n",
              "      <th>win_by_runs</th>\n",
              "      <th>win_by_wickets</th>\n",
              "      <th>player_of_match</th>\n",
              "      <th>venue</th>\n",
              "      <th>umpire1</th>\n",
              "      <th>umpire2</th>\n",
              "      <th>umpire3</th>\n",
              "    </tr>\n",
              "  </thead>\n",
              "  <tbody>\n",
              "    <tr>\n",
              "      <th>1</th>\n",
              "      <td>2</td>\n",
              "      <td>2017</td>\n",
              "      <td>Pune</td>\n",
              "      <td>2017-04-06</td>\n",
              "      <td>Mumbai Indians</td>\n",
              "      <td>Rising Pune Supergiant</td>\n",
              "      <td>Rising Pune Supergiant</td>\n",
              "      <td>field</td>\n",
              "      <td>normal</td>\n",
              "      <td>0</td>\n",
              "      <td>Rising Pune Supergiant</td>\n",
              "      <td>0</td>\n",
              "      <td>7</td>\n",
              "      <td>SPD Smith</td>\n",
              "      <td>Maharashtra Cricket Association Stadium</td>\n",
              "      <td>A Nand Kishore</td>\n",
              "      <td>S Ravi</td>\n",
              "      <td>NaN</td>\n",
              "    </tr>\n",
              "    <tr>\n",
              "      <th>2</th>\n",
              "      <td>3</td>\n",
              "      <td>2017</td>\n",
              "      <td>Rajkot</td>\n",
              "      <td>2017-04-07</td>\n",
              "      <td>Gujarat Lions</td>\n",
              "      <td>Kolkata Knight Riders</td>\n",
              "      <td>Kolkata Knight Riders</td>\n",
              "      <td>field</td>\n",
              "      <td>normal</td>\n",
              "      <td>0</td>\n",
              "      <td>Kolkata Knight Riders</td>\n",
              "      <td>0</td>\n",
              "      <td>10</td>\n",
              "      <td>CA Lynn</td>\n",
              "      <td>Saurashtra Cricket Association Stadium</td>\n",
              "      <td>Nitin Menon</td>\n",
              "      <td>CK Nandan</td>\n",
              "      <td>NaN</td>\n",
              "    </tr>\n",
              "    <tr>\n",
              "      <th>3</th>\n",
              "      <td>4</td>\n",
              "      <td>2017</td>\n",
              "      <td>Indore</td>\n",
              "      <td>2017-04-08</td>\n",
              "      <td>Rising Pune Supergiant</td>\n",
              "      <td>Kings XI Punjab</td>\n",
              "      <td>Kings XI Punjab</td>\n",
              "      <td>field</td>\n",
              "      <td>normal</td>\n",
              "      <td>0</td>\n",
              "      <td>Kings XI Punjab</td>\n",
              "      <td>0</td>\n",
              "      <td>6</td>\n",
              "      <td>GJ Maxwell</td>\n",
              "      <td>Holkar Cricket Stadium</td>\n",
              "      <td>AK Chaudhary</td>\n",
              "      <td>C Shamshuddin</td>\n",
              "      <td>NaN</td>\n",
              "    </tr>\n",
              "    <tr>\n",
              "      <th>5</th>\n",
              "      <td>6</td>\n",
              "      <td>2017</td>\n",
              "      <td>Hyderabad</td>\n",
              "      <td>2017-04-09</td>\n",
              "      <td>Gujarat Lions</td>\n",
              "      <td>Sunrisers Hyderabad</td>\n",
              "      <td>Sunrisers Hyderabad</td>\n",
              "      <td>field</td>\n",
              "      <td>normal</td>\n",
              "      <td>0</td>\n",
              "      <td>Sunrisers Hyderabad</td>\n",
              "      <td>0</td>\n",
              "      <td>9</td>\n",
              "      <td>Rashid Khan</td>\n",
              "      <td>Rajiv Gandhi International Stadium, Uppal</td>\n",
              "      <td>A Deshmukh</td>\n",
              "      <td>NJ Llong</td>\n",
              "      <td>NaN</td>\n",
              "    </tr>\n",
              "    <tr>\n",
              "      <th>6</th>\n",
              "      <td>7</td>\n",
              "      <td>2017</td>\n",
              "      <td>Mumbai</td>\n",
              "      <td>2017-04-09</td>\n",
              "      <td>Kolkata Knight Riders</td>\n",
              "      <td>Mumbai Indians</td>\n",
              "      <td>Mumbai Indians</td>\n",
              "      <td>field</td>\n",
              "      <td>normal</td>\n",
              "      <td>0</td>\n",
              "      <td>Mumbai Indians</td>\n",
              "      <td>0</td>\n",
              "      <td>4</td>\n",
              "      <td>N Rana</td>\n",
              "      <td>Wankhede Stadium</td>\n",
              "      <td>Nitin Menon</td>\n",
              "      <td>CK Nandan</td>\n",
              "      <td>NaN</td>\n",
              "    </tr>\n",
              "  </tbody>\n",
              "</table>\n",
              "</div>"
            ],
            "text/plain": [
              "   id  season       city        date                   team1  \\\n",
              "1   2    2017       Pune  2017-04-06          Mumbai Indians   \n",
              "2   3    2017     Rajkot  2017-04-07           Gujarat Lions   \n",
              "3   4    2017     Indore  2017-04-08  Rising Pune Supergiant   \n",
              "5   6    2017  Hyderabad  2017-04-09           Gujarat Lions   \n",
              "6   7    2017     Mumbai  2017-04-09   Kolkata Knight Riders   \n",
              "\n",
              "                    team2             toss_winner toss_decision  result  \\\n",
              "1  Rising Pune Supergiant  Rising Pune Supergiant         field  normal   \n",
              "2   Kolkata Knight Riders   Kolkata Knight Riders         field  normal   \n",
              "3         Kings XI Punjab         Kings XI Punjab         field  normal   \n",
              "5     Sunrisers Hyderabad     Sunrisers Hyderabad         field  normal   \n",
              "6          Mumbai Indians          Mumbai Indians         field  normal   \n",
              "\n",
              "   dl_applied                  winner  win_by_runs  win_by_wickets  \\\n",
              "1           0  Rising Pune Supergiant            0               7   \n",
              "2           0   Kolkata Knight Riders            0              10   \n",
              "3           0         Kings XI Punjab            0               6   \n",
              "5           0     Sunrisers Hyderabad            0               9   \n",
              "6           0          Mumbai Indians            0               4   \n",
              "\n",
              "  player_of_match                                      venue         umpire1  \\\n",
              "1       SPD Smith    Maharashtra Cricket Association Stadium  A Nand Kishore   \n",
              "2         CA Lynn     Saurashtra Cricket Association Stadium     Nitin Menon   \n",
              "3      GJ Maxwell                     Holkar Cricket Stadium    AK Chaudhary   \n",
              "5     Rashid Khan  Rajiv Gandhi International Stadium, Uppal      A Deshmukh   \n",
              "6          N Rana                           Wankhede Stadium     Nitin Menon   \n",
              "\n",
              "         umpire2 umpire3  \n",
              "1         S Ravi     NaN  \n",
              "2      CK Nandan     NaN  \n",
              "3  C Shamshuddin     NaN  \n",
              "5       NJ Llong     NaN  \n",
              "6      CK Nandan     NaN  "
            ]
          },
          "execution_count": 72,
          "metadata": {},
          "output_type": "execute_result"
        }
      ],
      "source": [
        "batting_second.head()"
      ]
    },
    {
      "cell_type": "code",
      "execution_count": null,
      "id": "0d5036d3",
      "metadata": {
        "id": "0d5036d3"
      },
      "outputs": [],
      "source": [
        "# making a histogram of frequency of wins with respect to number of wickets"
      ]
    },
    {
      "cell_type": "code",
      "execution_count": null,
      "id": "9d649c45",
      "metadata": {
        "id": "9d649c45"
      },
      "outputs": [],
      "source": [
        "batting_second_frequncy=batting_second[\"win_by_wickets\"].value_counts()"
      ]
    },
    {
      "cell_type": "code",
      "execution_count": null,
      "id": "06f40d25",
      "metadata": {
        "id": "06f40d25",
        "outputId": "7012d9f2-539c-4548-fdce-fb8fae96af0d"
      },
      "outputs": [
        {
          "data": {
            "text/plain": [
              "6     85\n",
              "7     80\n",
              "5     71\n",
              "8     54\n",
              "4     41\n",
              "9     37\n",
              "3     18\n",
              "10    11\n",
              "2      6\n",
              "1      3\n",
              "Name: win_by_wickets, dtype: int64"
            ]
          },
          "execution_count": 77,
          "metadata": {},
          "output_type": "execute_result"
        }
      ],
      "source": [
        "batting_second_frequncy"
      ]
    },
    {
      "cell_type": "code",
      "execution_count": null,
      "id": "4c8187d7",
      "metadata": {
        "id": "4c8187d7",
        "outputId": "d2d0b111-2865-4079-86d3-1356b958eabd"
      },
      "outputs": [
        {
          "data": {
            "text/plain": [
              "(array([3., 1., 0., 0., 2., 0., 1., 0., 1., 2.]),\n",
              " array([ 3. , 11.2, 19.4, 27.6, 35.8, 44. , 52.2, 60.4, 68.6, 76.8, 85. ]),\n",
              " <BarContainer object of 10 artists>)"
            ]
          },
          "execution_count": 80,
          "metadata": {},
          "output_type": "execute_result"
        },
        {
          "data": {
            "image/png": "[encoded data removed]",
            "text/plain": [
              "<Figure size 432x288 with 1 Axes>"
            ]
          },
          "metadata": {
            "needs_background": "light"
          },
          "output_type": "display_data"
        }
      ],
      "source": [
        "plt.hist(batting_second_frequncy,color=\"purple\")"
      ]
    },
    {
      "cell_type": "code",
      "execution_count": null,
      "id": "d041081d",
      "metadata": {
        "id": "d041081d",
        "outputId": "29ef7981-a40c-4450-fae8-73a85baf2d07"
      },
      "outputs": [
        {
          "data": {
            "image/png": "[encoded data removed]",
            "text/plain": [
              "<Figure size 432x288 with 1 Axes>"
            ]
          },
          "metadata": {
            "needs_background": "light"
          },
          "output_type": "display_data"
        }
      ],
      "source": [
        "plt.hist(batting_second[\"win_by_wickets\"],bins=30)\n",
        "plt.show()"
      ]
    },
    {
      "cell_type": "code",
      "execution_count": null,
      "id": "9c0a67be",
      "metadata": {
        "id": "9c0a67be"
      },
      "outputs": [],
      "source": [
        "# findin out the frequency of number of wins w.r.t each time after batting second"
      ]
    },
    {
      "cell_type": "code",
      "execution_count": null,
      "id": "2761141e",
      "metadata": {
        "id": "2761141e",
        "outputId": "c2dff82d-727a-4d2e-c43a-007d4c8bf721"
      },
      "outputs": [
        {
          "data": {
            "text/plain": [
              "Kolkata Knight Riders          56\n",
              "Mumbai Indians                 50\n",
              "Royal Challengers Bangalore    48\n",
              "Chennai Super Kings            48\n",
              "Rajasthan Royals               46\n",
              "Kings XI Punjab                42\n",
              "Delhi Daredevils               42\n",
              "Sunrisers Hyderabad            27\n",
              "Gujarat Lions                  12\n",
              "Deccan Chargers                11\n",
              "Pune Warriors                   6\n",
              "Delhi Capitals                  6\n",
              "Rising Pune Supergiant          5\n",
              "Kochi Tuskers Kerala            4\n",
              "Rising Pune Supergiants         3\n",
              "Name: winner, dtype: int64"
            ]
          },
          "execution_count": 85,
          "metadata": {},
          "output_type": "execute_result"
        }
      ],
      "source": [
        "batting_second[\"winner\"].value_counts()"
      ]
    },
    {
      "cell_type": "code",
      "execution_count": null,
      "id": "336b6bac",
      "metadata": {
        "id": "336b6bac",
        "outputId": "9ec163fc-da1c-465b-aa71-c6dfe04ed1f9"
      },
      "outputs": [
        {
          "data": {
            "text/plain": [
              "2013    76\n",
              "2012    74\n",
              "2011    73\n",
              "2010    60\n",
              "2014    60\n",
              "2016    60\n",
              "2018    60\n",
              "2019    60\n",
              "2017    59\n",
              "2015    59\n",
              "2008    58\n",
              "2009    57\n",
              "Name: season, dtype: int64"
            ]
          },
          "execution_count": 86,
          "metadata": {},
          "output_type": "execute_result"
        }
      ],
      "source": [
        "# looking at the number of matches played each season\n",
        "df[\"season\"].value_counts()"
      ]
    },
    {
      "cell_type": "code",
      "execution_count": null,
      "id": "f23941d5",
      "metadata": {
        "id": "f23941d5",
        "outputId": "b003e854-2b39-4ba6-a814-34e2771d3e77"
      },
      "outputs": [
        {
          "data": {
            "text/plain": [
              "Mumbai            101\n",
              "Kolkata            77\n",
              "Delhi              74\n",
              "Bangalore          66\n",
              "Hyderabad          64\n",
              "Chennai            57\n",
              "Jaipur             47\n",
              "Chandigarh         46\n",
              "Pune               38\n",
              "Durban             15\n",
              "Bengaluru          14\n",
              "Visakhapatnam      13\n",
              "Centurion          12\n",
              "Ahmedabad          12\n",
              "Rajkot             10\n",
              "Mohali             10\n",
              "Indore              9\n",
              "Dharamsala          9\n",
              "Johannesburg        8\n",
              "Cuttack             7\n",
              "Ranchi              7\n",
              "Port Elizabeth      7\n",
              "Cape Town           7\n",
              "Abu Dhabi           7\n",
              "Sharjah             6\n",
              "Raipur              6\n",
              "Kochi               5\n",
              "Kanpur              4\n",
              "Nagpur              3\n",
              "Kimberley           3\n",
              "East London         3\n",
              "Bloemfontein        2\n",
              "Name: city, dtype: int64"
            ]
          },
          "execution_count": 87,
          "metadata": {},
          "output_type": "execute_result"
        }
      ],
      "source": [
        "# looking at the number of matches played in the each city\n",
        "df[\"city\"].value_counts()"
      ]
    },
    {
      "cell_type": "code",
      "execution_count": null,
      "id": "cb7b9ec8",
      "metadata": {
        "id": "cb7b9ec8",
        "outputId": "6c64f0fb-83cf-4891-f025-0ec67b7a2b99"
      },
      "outputs": [
        {
          "data": {
            "text/plain": [
              "393"
            ]
          },
          "execution_count": 88,
          "metadata": {},
          "output_type": "execute_result"
        }
      ],
      "source": [
        "# finding out how many times a teamhas won the match after winning the toss\n",
        "np.sum(df[\"winner\"]==df[\"toss_winner\"])"
      ]
    },
    {
      "cell_type": "code",
      "execution_count": null,
      "id": "9d41cce2",
      "metadata": {
        "id": "9d41cce2",
        "outputId": "60be0e2e-3e38-4612-a608-be9e2412ff85"
      },
      "outputs": [
        {
          "data": {
            "text/plain": [
              "(756, 18)"
            ]
          },
          "execution_count": 89,
          "metadata": {},
          "output_type": "execute_result"
        }
      ],
      "source": [
        "df.shape"
      ]
    },
    {
      "cell_type": "code",
      "execution_count": null,
      "id": "75d030bc",
      "metadata": {
        "id": "75d030bc",
        "outputId": "f766a0dc-87cb-4bf9-de27-d0b3083b0575"
      },
      "outputs": [
        {
          "data": {
            "text/plain": [
              "0.5198412698412699"
            ]
          },
          "execution_count": 90,
          "metadata": {},
          "output_type": "execute_result"
        }
      ],
      "source": [
        "393/756"
      ]
    },
    {
      "cell_type": "code",
      "execution_count": null,
      "id": "fd9bd26a",
      "metadata": {
        "id": "fd9bd26a"
      },
      "outputs": [],
      "source": []
    },
    {
      "cell_type": "code",
      "execution_count": null,
      "id": "93f248ca",
      "metadata": {
        "id": "93f248ca"
      },
      "outputs": [],
      "source": []
    },
    {
      "cell_type": "code",
      "execution_count": null,
      "id": "640f8603",
      "metadata": {
        "id": "640f8603"
      },
      "outputs": [],
      "source": []
    }
  ],
  "metadata": {
    "kernelspec": {
      "display_name": "Python 3 (ipykernel)",
      "language": "python",
      "name": "python3"
    },
    "language_info": {
      "codemirror_mode": {
        "name": "ipython",
        "version": 3
      },
      "file_extension": ".py",
      "mimetype": "text/x-python",
      "name": "python",
      "nbconvert_exporter": "python",
      "pygments_lexer": "ipython3",
      "version": "3.10.0"
    },
    "colab": {
      "provenance": [],
      "include_colab_link": true
    }
  },
  "nbformat": 4,
  "nbformat_minor": 5
}