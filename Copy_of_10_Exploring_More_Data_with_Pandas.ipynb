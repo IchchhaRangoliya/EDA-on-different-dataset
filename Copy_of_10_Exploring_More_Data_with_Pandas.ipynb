{
  "cells": [
    {
      "cell_type": "markdown",
      "metadata": {
        "id": "view-in-github",
        "colab_type": "text"
      },
      "source": [
        "<a href=\"https://colab.research.google.com/github/IchchhaRangoliya/EDA-on-different-dataset/blob/main/Copy_of_10_Exploring_More_Data_with_Pandas.ipynb\" target=\"_parent\"><img src=\"https://colab.research.google.com/assets/colab-badge.svg\" alt=\"Open In Colab\"/></a>"
      ]
    },
    {
      "cell_type": "markdown",
      "metadata": {
        "id": "6cArHcA22hzn"
      },
      "source": [
        "# **Complete the given task using Pandas** ⏰"
      ]
    },
    {
      "cell_type": "markdown",
      "metadata": {
        "id": "cy9ahKVr20Hr"
      },
      "source": [
        "About **Dataset**\n",
        "\n",
        "India has the largest film industry in the world, in terms of number of films released with 1,500 and 2,000 movies a year across 20 languages. This thing motivate me to create dataset about Indian movies. Here I scrap the data from a website which has information about different India's film industries like Bollywood, Tollywood, Kollywood, Sandalwood, Mollywood etc.\n",
        "Following task that you can perform on this dataset.\n",
        "\n",
        "```\n",
        "Data cleaning\n",
        "Data preprocessing\n",
        "Visualization (Optional)\n",
        "This dataset contains details of over 50000+ Indian movies attributes such as ID,Movie Name, Year, Language, Timing(min), Rating(10), Votes and Genre.\n",
        "\n",
        "```"
      ]
    },
    {
      "cell_type": "code",
      "execution_count": null,
      "metadata": {
        "colab": {
          "base_uri": "https://localhost:8080/"
        },
        "id": "ByNcaeFHHa2S",
        "outputId": "c2040fb8-5942-4441-d297-ab43cfe0bddd"
      },
      "outputs": [
        {
          "name": "stdout",
          "output_type": "stream",
          "text": [
            "--2022-10-02 05:48:53--  https://raw.githubusercontent.com/Ambatkar/Test_mnist/main/data/indian%20movies.csv\n",
            "Resolving raw.githubusercontent.com (raw.githubusercontent.com)... 185.199.108.133, 185.199.109.133, 185.199.110.133, ...\n",
            "Connecting to raw.githubusercontent.com (raw.githubusercontent.com)|185.199.108.133|:443... connected.\n",
            "HTTP request sent, awaiting response... 200 OK\n",
            "Length: 3408201 (3.2M) [text/plain]\n",
            "Saving to: ‘indian movies.csv’\n",
            "\n",
            "indian movies.csv   100%[===================>]   3.25M  --.-KB/s    in 0.07s   \n",
            "\n",
            "2022-10-02 05:48:54 (46.9 MB/s) - ‘indian movies.csv’ saved [3408201/3408201]\n",
            "\n"
          ]
        }
      ],
      "source": [
        "!wget \"https://raw.githubusercontent.com/Ambatkar/Test_mnist/main/data/indian%20movies.csv\""
      ]
    },
    {
      "cell_type": "markdown",
      "metadata": {
        "id": "NF1pij9e3H6r"
      },
      "source": [
        "<hr>"
      ]
    },
    {
      "cell_type": "code",
      "execution_count": null,
      "metadata": {
        "id": "sxgOTjOgytcG"
      },
      "outputs": [],
      "source": [
        "import pandas as pd\n",
        "import numpy as np\n",
        "import re"
      ]
    },
    {
      "cell_type": "code",
      "execution_count": null,
      "metadata": {
        "id": "7_DhPbNVywFe"
      },
      "outputs": [],
      "source": [
        "df = pd.read_csv(\"https://raw.githubusercontent.com/Ambatkar/Test_mnist/main/data/indian%20movies.csv\")"
      ]
    },
    {
      "cell_type": "code",
      "execution_count": null,
      "metadata": {
        "colab": {
          "base_uri": "https://localhost:8080/",
          "height": 206
        },
        "id": "JQ9b6SLIy21f",
        "outputId": "9cc2e111-ca97-485d-fd7b-2c099e033784"
      },
      "outputs": [
        {
          "data": {
            "text/html": [
              "<div>\n",
              "<style scoped>\n",
              "    .dataframe tbody tr th:only-of-type {\n",
              "        vertical-align: middle;\n",
              "    }\n",
              "\n",
              "    .dataframe tbody tr th {\n",
              "        vertical-align: top;\n",
              "    }\n",
              "\n",
              "    .dataframe thead th {\n",
              "        text-align: right;\n",
              "    }\n",
              "</style>\n",
              "<table border=\"1\" class=\"dataframe\">\n",
              "  <thead>\n",
              "    <tr style=\"text-align: right;\">\n",
              "      <th></th>\n",
              "      <th>ID</th>\n",
              "      <th>Movie Name</th>\n",
              "      <th>Year</th>\n",
              "      <th>Timing(min)</th>\n",
              "      <th>Rating(10)</th>\n",
              "      <th>Votes</th>\n",
              "      <th>Genre</th>\n",
              "      <th>Language</th>\n",
              "    </tr>\n",
              "  </thead>\n",
              "  <tbody>\n",
              "    <tr>\n",
              "      <th>0</th>\n",
              "      <td>tt0398974</td>\n",
              "      <td>Dr. Shaitan</td>\n",
              "      <td>1960</td>\n",
              "      <td>-</td>\n",
              "      <td>-</td>\n",
              "      <td>-</td>\n",
              "      <td>-</td>\n",
              "      <td>hindi</td>\n",
              "    </tr>\n",
              "    <tr>\n",
              "      <th>1</th>\n",
              "      <td>tt1702558</td>\n",
              "      <td>Nadir Khan</td>\n",
              "      <td>1968</td>\n",
              "      <td>-</td>\n",
              "      <td>-</td>\n",
              "      <td>-</td>\n",
              "      <td>-</td>\n",
              "      <td>urdu</td>\n",
              "    </tr>\n",
              "    <tr>\n",
              "      <th>2</th>\n",
              "      <td>tt0493437</td>\n",
              "      <td>Apna Sapna Money Money</td>\n",
              "      <td>2006</td>\n",
              "      <td>134 min</td>\n",
              "      <td>5.3</td>\n",
              "      <td>1,892</td>\n",
              "      <td>Comedy, Musical, Romance</td>\n",
              "      <td>hindi</td>\n",
              "    </tr>\n",
              "    <tr>\n",
              "      <th>3</th>\n",
              "      <td>tt0273405</td>\n",
              "      <td>Aag Aur Sholay</td>\n",
              "      <td>1987</td>\n",
              "      <td>-</td>\n",
              "      <td>2.2</td>\n",
              "      <td>20</td>\n",
              "      <td>-</td>\n",
              "      <td>urdu</td>\n",
              "    </tr>\n",
              "    <tr>\n",
              "      <th>4</th>\n",
              "      <td>tt0049595</td>\n",
              "      <td>Parivar</td>\n",
              "      <td>1956</td>\n",
              "      <td>-</td>\n",
              "      <td>7.4</td>\n",
              "      <td>21</td>\n",
              "      <td>Comedy, Drama, Family</td>\n",
              "      <td>hindi</td>\n",
              "    </tr>\n",
              "    <tr>\n",
              "      <th>5</th>\n",
              "      <td>tt2930026</td>\n",
              "      <td>Humraah: The Traitor</td>\n",
              "      <td>2008</td>\n",
              "      <td>-</td>\n",
              "      <td>-</td>\n",
              "      <td>-</td>\n",
              "      <td>Thriller</td>\n",
              "      <td>hindi</td>\n",
              "    </tr>\n",
              "    <tr>\n",
              "      <th>6</th>\n",
              "      <td>tt6597160</td>\n",
              "      <td>Jacqueline I Am Coming</td>\n",
              "      <td>2019</td>\n",
              "      <td>112 min</td>\n",
              "      <td>7.9</td>\n",
              "      <td>16</td>\n",
              "      <td>Drama</td>\n",
              "      <td>hindi</td>\n",
              "    </tr>\n",
              "    <tr>\n",
              "      <th>7</th>\n",
              "      <td>tt0829459</td>\n",
              "      <td>A Mighty Heart</td>\n",
              "      <td>2007</td>\n",
              "      <td>108 min</td>\n",
              "      <td>6.6</td>\n",
              "      <td>26,885</td>\n",
              "      <td>Biography, Drama, History</td>\n",
              "      <td>urdu</td>\n",
              "    </tr>\n",
              "    <tr>\n",
              "      <th>8</th>\n",
              "      <td>tt0154875</td>\n",
              "      <td>Midnight Mail</td>\n",
              "      <td>1939</td>\n",
              "      <td>-</td>\n",
              "      <td>-</td>\n",
              "      <td>-</td>\n",
              "      <td>Action</td>\n",
              "      <td>hindi</td>\n",
              "    </tr>\n",
              "    <tr>\n",
              "      <th>9</th>\n",
              "      <td>tt0364628</td>\n",
              "      <td>Raktalekha</td>\n",
              "      <td>1992</td>\n",
              "      <td>175 min</td>\n",
              "      <td>6.3</td>\n",
              "      <td>12</td>\n",
              "      <td>Drama</td>\n",
              "      <td>bengali</td>\n",
              "    </tr>\n",
              "    <tr>\n",
              "      <th>10</th>\n",
              "      <td>tt0364733</td>\n",
              "      <td>Veedevadandi Babu</td>\n",
              "      <td>1997</td>\n",
              "      <td>138 min</td>\n",
              "      <td>5.6</td>\n",
              "      <td>218</td>\n",
              "      <td>Comedy</td>\n",
              "      <td>telugu</td>\n",
              "    </tr>\n",
              "    <tr>\n",
              "      <th>11</th>\n",
              "      <td>tt8272296</td>\n",
              "      <td>A Mayalu Timi Lai</td>\n",
              "      <td>2018 Video</td>\n",
              "      <td>-</td>\n",
              "      <td>-</td>\n",
              "      <td>-</td>\n",
              "      <td>Short, Music</td>\n",
              "      <td>nepali</td>\n",
              "    </tr>\n",
              "    <tr>\n",
              "      <th>12</th>\n",
              "      <td>tt5684550</td>\n",
              "      <td>Da Tang Xuan Zang</td>\n",
              "      <td>2016</td>\n",
              "      <td>90 min</td>\n",
              "      <td>6.2</td>\n",
              "      <td>379</td>\n",
              "      <td>Biography, History</td>\n",
              "      <td>sanskrit</td>\n",
              "    </tr>\n",
              "    <tr>\n",
              "      <th>13</th>\n",
              "      <td>tt0250733</td>\n",
              "      <td>Sikandar</td>\n",
              "      <td>1976</td>\n",
              "      <td>-</td>\n",
              "      <td>-</td>\n",
              "      <td>-</td>\n",
              "      <td>-</td>\n",
              "      <td>hindi</td>\n",
              "    </tr>\n",
              "    <tr>\n",
              "      <th>14</th>\n",
              "      <td>tt1407272</td>\n",
              "      <td>Pehla Qadam</td>\n",
              "      <td>1958</td>\n",
              "      <td>-</td>\n",
              "      <td>-</td>\n",
              "      <td>-</td>\n",
              "      <td>-</td>\n",
              "      <td>urdu</td>\n",
              "    </tr>\n",
              "    <tr>\n",
              "      <th>15</th>\n",
              "      <td>tt0318983</td>\n",
              "      <td>Amman Koil Kizhakkaalae</td>\n",
              "      <td>1986</td>\n",
              "      <td>141 min</td>\n",
              "      <td>6.9</td>\n",
              "      <td>63</td>\n",
              "      <td>Drama</td>\n",
              "      <td>tamil</td>\n",
              "    </tr>\n",
              "    <tr>\n",
              "      <th>16</th>\n",
              "      <td>tt3148392</td>\n",
              "      <td>Shatru</td>\n",
              "      <td>2013</td>\n",
              "      <td>-</td>\n",
              "      <td>4.5</td>\n",
              "      <td>11</td>\n",
              "      <td>Action, Thriller</td>\n",
              "      <td>kannada</td>\n",
              "    </tr>\n",
              "    <tr>\n",
              "      <th>17</th>\n",
              "      <td>tt7836398</td>\n",
              "      <td>Kamal Khatri Feat. Simpal Kharel: Jaula Relaima</td>\n",
              "      <td>2017 Video</td>\n",
              "      <td>5 min</td>\n",
              "      <td>-</td>\n",
              "      <td>-</td>\n",
              "      <td>Short, Music</td>\n",
              "      <td>nepali</td>\n",
              "    </tr>\n",
              "    <tr>\n",
              "      <th>18</th>\n",
              "      <td>tt0376353</td>\n",
              "      <td>Zinda Jala Doonga</td>\n",
              "      <td>1988</td>\n",
              "      <td>-</td>\n",
              "      <td>-</td>\n",
              "      <td>-</td>\n",
              "      <td>Action</td>\n",
              "      <td>hindi</td>\n",
              "    </tr>\n",
              "    <tr>\n",
              "      <th>19</th>\n",
              "      <td>tt2302945</td>\n",
              "      <td>Tukaram</td>\n",
              "      <td>2012</td>\n",
              "      <td>156 min</td>\n",
              "      <td>7.3</td>\n",
              "      <td>231</td>\n",
              "      <td>Biography, Drama, History</td>\n",
              "      <td>marathi</td>\n",
              "    </tr>\n",
              "    <tr>\n",
              "      <th>20</th>\n",
              "      <td>tt6517874</td>\n",
              "      <td>Ramante Edenthottam</td>\n",
              "      <td>2017</td>\n",
              "      <td>122 min</td>\n",
              "      <td>6.0</td>\n",
              "      <td>459</td>\n",
              "      <td>Comedy, Drama, Romance</td>\n",
              "      <td>malayalam</td>\n",
              "    </tr>\n",
              "    <tr>\n",
              "      <th>21</th>\n",
              "      <td>tt0150519</td>\n",
              "      <td>Faslah</td>\n",
              "      <td>1974</td>\n",
              "      <td>-</td>\n",
              "      <td>-</td>\n",
              "      <td>-</td>\n",
              "      <td>Crime, Drama, Romance</td>\n",
              "      <td>hindi</td>\n",
              "    </tr>\n",
              "    <tr>\n",
              "      <th>22</th>\n",
              "      <td>tt4820566</td>\n",
              "      <td>Jawani Ki Ghabrahat</td>\n",
              "      <td>1991</td>\n",
              "      <td>-</td>\n",
              "      <td>-</td>\n",
              "      <td>-</td>\n",
              "      <td>Thriller</td>\n",
              "      <td>hindi</td>\n",
              "    </tr>\n",
              "    <tr>\n",
              "      <th>23</th>\n",
              "      <td>tt0318296</td>\n",
              "      <td>Anbu Chinnam</td>\n",
              "      <td>1990</td>\n",
              "      <td>-</td>\n",
              "      <td>-</td>\n",
              "      <td>-</td>\n",
              "      <td>-</td>\n",
              "      <td>tamil</td>\n",
              "    </tr>\n",
              "    <tr>\n",
              "      <th>24</th>\n",
              "      <td>tt12717866</td>\n",
              "      <td>Naveed</td>\n",
              "      <td>2020</td>\n",
              "      <td>57 min</td>\n",
              "      <td>-</td>\n",
              "      <td>-</td>\n",
              "      <td>Documentary</td>\n",
              "      <td>urdu</td>\n",
              "    </tr>\n",
              "    <tr>\n",
              "      <th>25</th>\n",
              "      <td>tt12701012</td>\n",
              "      <td>Ramudu Bheemudu</td>\n",
              "      <td>1988</td>\n",
              "      <td>141 min</td>\n",
              "      <td>-</td>\n",
              "      <td>-</td>\n",
              "      <td>Drama</td>\n",
              "      <td>telugu</td>\n",
              "    </tr>\n",
              "    <tr>\n",
              "      <th>26</th>\n",
              "      <td>tt3466016</td>\n",
              "      <td>Vaade Kavali</td>\n",
              "      <td>2009</td>\n",
              "      <td>-</td>\n",
              "      <td>-</td>\n",
              "      <td>-</td>\n",
              "      <td>Romance</td>\n",
              "      <td>telugu</td>\n",
              "    </tr>\n",
              "    <tr>\n",
              "      <th>27</th>\n",
              "      <td>tt4654666</td>\n",
              "      <td>Aakhri Muqabla</td>\n",
              "      <td>1978</td>\n",
              "      <td>-</td>\n",
              "      <td>-</td>\n",
              "      <td>-</td>\n",
              "      <td>Action</td>\n",
              "      <td>hindi</td>\n",
              "    </tr>\n",
              "    <tr>\n",
              "      <th>28</th>\n",
              "      <td>tt1319563</td>\n",
              "      <td>Dracula</td>\n",
              "      <td>1999</td>\n",
              "      <td>92 min</td>\n",
              "      <td>4.1</td>\n",
              "      <td>16</td>\n",
              "      <td>Horror</td>\n",
              "      <td>hindi</td>\n",
              "    </tr>\n",
              "    <tr>\n",
              "      <th>29</th>\n",
              "      <td>tt0398130</td>\n",
              "      <td>Jahanara</td>\n",
              "      <td>1935</td>\n",
              "      <td>-</td>\n",
              "      <td>-</td>\n",
              "      <td>-</td>\n",
              "      <td>-</td>\n",
              "      <td>hindi</td>\n",
              "    </tr>\n",
              "    <tr>\n",
              "      <th>30</th>\n",
              "      <td>tt0065764</td>\n",
              "      <td>Geet</td>\n",
              "      <td>1970</td>\n",
              "      <td>-</td>\n",
              "      <td>7.1</td>\n",
              "      <td>98</td>\n",
              "      <td>Action, Crime, Musical</td>\n",
              "      <td>hindi</td>\n",
              "    </tr>\n",
              "    <tr>\n",
              "      <th>31</th>\n",
              "      <td>tt2707908</td>\n",
              "      <td>Sej Piya Ki</td>\n",
              "      <td>1985</td>\n",
              "      <td>-</td>\n",
              "      <td>-</td>\n",
              "      <td>-</td>\n",
              "      <td>Drama</td>\n",
              "      <td>hindi</td>\n",
              "    </tr>\n",
              "    <tr>\n",
              "      <th>32</th>\n",
              "      <td>tt3509698</td>\n",
              "      <td>Sati Sita Luv Kush</td>\n",
              "      <td>1981</td>\n",
              "      <td>-</td>\n",
              "      <td>-</td>\n",
              "      <td>-</td>\n",
              "      <td>Drama</td>\n",
              "      <td>hindi</td>\n",
              "    </tr>\n",
              "    <tr>\n",
              "      <th>33</th>\n",
              "      <td>tt1575647</td>\n",
              "      <td>Nuvvu Vasthavani</td>\n",
              "      <td>2000</td>\n",
              "      <td>158 min</td>\n",
              "      <td>6.6</td>\n",
              "      <td>160</td>\n",
              "      <td>Family, Romance</td>\n",
              "      <td>telugu</td>\n",
              "    </tr>\n",
              "    <tr>\n",
              "      <th>34</th>\n",
              "      <td>-</td>\n",
              "      <td>Jam</td>\n",
              "      <td>NaN</td>\n",
              "      <td>-</td>\n",
              "      <td>-</td>\n",
              "      <td>-</td>\n",
              "      <td>Drama</td>\n",
              "      <td>bengali</td>\n",
              "    </tr>\n",
              "    <tr>\n",
              "      <th>35</th>\n",
              "      <td>tt0357879</td>\n",
              "      <td>Madadgaar</td>\n",
              "      <td>1987</td>\n",
              "      <td>-</td>\n",
              "      <td>5.4</td>\n",
              "      <td>11</td>\n",
              "      <td>Action, Crime, Drama</td>\n",
              "      <td>hindi</td>\n",
              "    </tr>\n",
              "    <tr>\n",
              "      <th>36</th>\n",
              "      <td>tt1827428</td>\n",
              "      <td>Hamra Se Biyah Karba</td>\n",
              "      <td>2003</td>\n",
              "      <td>-</td>\n",
              "      <td>-</td>\n",
              "      <td>-</td>\n",
              "      <td>Drama</td>\n",
              "      <td>bhojpuri</td>\n",
              "    </tr>\n",
              "    <tr>\n",
              "      <th>37</th>\n",
              "      <td>tt0351354</td>\n",
              "      <td>Milan Ki Raat</td>\n",
              "      <td>1967</td>\n",
              "      <td>-</td>\n",
              "      <td>4.4</td>\n",
              "      <td>7</td>\n",
              "      <td>Drama, Romance</td>\n",
              "      <td>hindi</td>\n",
              "    </tr>\n",
              "    <tr>\n",
              "      <th>38</th>\n",
              "      <td>tt0213519</td>\n",
              "      <td>Bhool Bhulaiyan</td>\n",
              "      <td>1933</td>\n",
              "      <td>-</td>\n",
              "      <td>6.0</td>\n",
              "      <td>6</td>\n",
              "      <td>Comedy</td>\n",
              "      <td>hindi</td>\n",
              "    </tr>\n",
              "    <tr>\n",
              "      <th>39</th>\n",
              "      <td>tt0246905</td>\n",
              "      <td>Saajan Chale Sasural</td>\n",
              "      <td>1996</td>\n",
              "      <td>134 min</td>\n",
              "      <td>6.0</td>\n",
              "      <td>1,312</td>\n",
              "      <td>Comedy, Drama</td>\n",
              "      <td>hindi</td>\n",
              "    </tr>\n",
              "    <tr>\n",
              "      <th>40</th>\n",
              "      <td>tt1582519</td>\n",
              "      <td>Khaleja</td>\n",
              "      <td>2010</td>\n",
              "      <td>170 min</td>\n",
              "      <td>7.6</td>\n",
              "      <td>8,284</td>\n",
              "      <td>Action, Comedy, Fantasy</td>\n",
              "      <td>telugu</td>\n",
              "    </tr>\n",
              "    <tr>\n",
              "      <th>41</th>\n",
              "      <td>tt6682124</td>\n",
              "      <td>Rogue</td>\n",
              "      <td>II 2017</td>\n",
              "      <td>134 min</td>\n",
              "      <td>5.1</td>\n",
              "      <td>118</td>\n",
              "      <td>Action, Thriller</td>\n",
              "      <td>kannada</td>\n",
              "    </tr>\n",
              "    <tr>\n",
              "      <th>42</th>\n",
              "      <td>-</td>\n",
              "      <td>Shaan</td>\n",
              "      <td>NaN</td>\n",
              "      <td>166 min</td>\n",
              "      <td>-</td>\n",
              "      <td>-</td>\n",
              "      <td>Action</td>\n",
              "      <td>hindi</td>\n",
              "    </tr>\n",
              "    <tr>\n",
              "      <th>43</th>\n",
              "      <td>tt6882630</td>\n",
              "      <td>Bhale Bullodu</td>\n",
              "      <td>1995</td>\n",
              "      <td>-</td>\n",
              "      <td>-</td>\n",
              "      <td>-</td>\n",
              "      <td>Drama</td>\n",
              "      <td>telugu</td>\n",
              "    </tr>\n",
              "    <tr>\n",
              "      <th>44</th>\n",
              "      <td>tt0397478</td>\n",
              "      <td>Jaal</td>\n",
              "      <td>1973</td>\n",
              "      <td>-</td>\n",
              "      <td>-</td>\n",
              "      <td>-</td>\n",
              "      <td>Musical</td>\n",
              "      <td>urdu</td>\n",
              "    </tr>\n",
              "    <tr>\n",
              "      <th>45</th>\n",
              "      <td>tt0464849</td>\n",
              "      <td>Yuvakudu</td>\n",
              "      <td>2000</td>\n",
              "      <td>145 min</td>\n",
              "      <td>6.9</td>\n",
              "      <td>110</td>\n",
              "      <td>Romance</td>\n",
              "      <td>telugu</td>\n",
              "    </tr>\n",
              "    <tr>\n",
              "      <th>46</th>\n",
              "      <td>tt13276010</td>\n",
              "      <td>Goolihatti</td>\n",
              "      <td>2015</td>\n",
              "      <td>156 min</td>\n",
              "      <td>-</td>\n",
              "      <td>-</td>\n",
              "      <td>Drama</td>\n",
              "      <td>kannada</td>\n",
              "    </tr>\n",
              "    <tr>\n",
              "      <th>47</th>\n",
              "      <td>tt0139306</td>\n",
              "      <td>Hamara Ghar</td>\n",
              "      <td>1950</td>\n",
              "      <td>-</td>\n",
              "      <td>-</td>\n",
              "      <td>-</td>\n",
              "      <td>-</td>\n",
              "      <td>hindi</td>\n",
              "    </tr>\n",
              "    <tr>\n",
              "      <th>48</th>\n",
              "      <td>tt10515954</td>\n",
              "      <td>Olessia</td>\n",
              "      <td>2019</td>\n",
              "      <td>120 min</td>\n",
              "      <td>8.1</td>\n",
              "      <td>40</td>\n",
              "      <td>Drama, Musical</td>\n",
              "      <td>malayalam</td>\n",
              "    </tr>\n",
              "    <tr>\n",
              "      <th>49</th>\n",
              "      <td>tt5159256</td>\n",
              "      <td>Prohibited</td>\n",
              "      <td>2015</td>\n",
              "      <td>12 min</td>\n",
              "      <td>8.2</td>\n",
              "      <td>25</td>\n",
              "      <td>Short, Drama, Thriller</td>\n",
              "      <td>urdu</td>\n",
              "    </tr>\n",
              "  </tbody>\n",
              "</table>\n",
              "</div>"
            ],
            "text/plain": [
              "            ID                                       Movie Name        Year  \\\n",
              "0    tt0398974                                      Dr. Shaitan        1960   \n",
              "1    tt1702558                                       Nadir Khan        1968   \n",
              "2    tt0493437                           Apna Sapna Money Money        2006   \n",
              "3    tt0273405                                   Aag Aur Sholay        1987   \n",
              "4    tt0049595                                          Parivar        1956   \n",
              "5    tt2930026                             Humraah: The Traitor        2008   \n",
              "6    tt6597160                           Jacqueline I Am Coming        2019   \n",
              "7    tt0829459                                   A Mighty Heart        2007   \n",
              "8    tt0154875                                    Midnight Mail        1939   \n",
              "9    tt0364628                                       Raktalekha        1992   \n",
              "10   tt0364733                                Veedevadandi Babu        1997   \n",
              "11   tt8272296                                A Mayalu Timi Lai  2018 Video   \n",
              "12   tt5684550                                Da Tang Xuan Zang        2016   \n",
              "13   tt0250733                                         Sikandar        1976   \n",
              "14   tt1407272                                      Pehla Qadam        1958   \n",
              "15   tt0318983                          Amman Koil Kizhakkaalae        1986   \n",
              "16   tt3148392                                           Shatru        2013   \n",
              "17   tt7836398  Kamal Khatri Feat. Simpal Kharel: Jaula Relaima  2017 Video   \n",
              "18   tt0376353                                Zinda Jala Doonga        1988   \n",
              "19   tt2302945                                          Tukaram        2012   \n",
              "20   tt6517874                              Ramante Edenthottam        2017   \n",
              "21   tt0150519                                           Faslah        1974   \n",
              "22   tt4820566                              Jawani Ki Ghabrahat        1991   \n",
              "23   tt0318296                                     Anbu Chinnam        1990   \n",
              "24  tt12717866                                           Naveed        2020   \n",
              "25  tt12701012                                  Ramudu Bheemudu        1988   \n",
              "26   tt3466016                                     Vaade Kavali        2009   \n",
              "27   tt4654666                                   Aakhri Muqabla        1978   \n",
              "28   tt1319563                                          Dracula        1999   \n",
              "29   tt0398130                                         Jahanara        1935   \n",
              "30   tt0065764                                             Geet        1970   \n",
              "31   tt2707908                                      Sej Piya Ki        1985   \n",
              "32   tt3509698                               Sati Sita Luv Kush        1981   \n",
              "33   tt1575647                                 Nuvvu Vasthavani        2000   \n",
              "34           -                                              Jam         NaN   \n",
              "35   tt0357879                                        Madadgaar        1987   \n",
              "36   tt1827428                             Hamra Se Biyah Karba        2003   \n",
              "37   tt0351354                                    Milan Ki Raat        1967   \n",
              "38   tt0213519                                  Bhool Bhulaiyan        1933   \n",
              "39   tt0246905                             Saajan Chale Sasural        1996   \n",
              "40   tt1582519                                          Khaleja        2010   \n",
              "41   tt6682124                                            Rogue     II 2017   \n",
              "42           -                                            Shaan         NaN   \n",
              "43   tt6882630                                    Bhale Bullodu        1995   \n",
              "44   tt0397478                                             Jaal        1973   \n",
              "45   tt0464849                                         Yuvakudu        2000   \n",
              "46  tt13276010                                       Goolihatti        2015   \n",
              "47   tt0139306                                      Hamara Ghar        1950   \n",
              "48  tt10515954                                          Olessia        2019   \n",
              "49   tt5159256                                       Prohibited        2015   \n",
              "\n",
              "   Timing(min) Rating(10)   Votes                                  Genre  \\\n",
              "0            -          -       -                                      -   \n",
              "1            -          -       -                                      -   \n",
              "2      134 min        5.3   1,892   Comedy, Musical, Romance               \n",
              "3            -        2.2      20                                      -   \n",
              "4            -        7.4      21      Comedy, Drama, Family               \n",
              "5            -          -       -                   Thriller               \n",
              "6      112 min        7.9      16                      Drama               \n",
              "7      108 min        6.6  26,885  Biography, Drama, History               \n",
              "8            -          -       -                     Action               \n",
              "9      175 min        6.3      12                      Drama               \n",
              "10     138 min        5.6     218                     Comedy               \n",
              "11           -          -       -               Short, Music               \n",
              "12      90 min        6.2     379         Biography, History               \n",
              "13           -          -       -                                      -   \n",
              "14           -          -       -                                      -   \n",
              "15     141 min        6.9      63                      Drama               \n",
              "16           -        4.5      11           Action, Thriller               \n",
              "17       5 min          -       -               Short, Music               \n",
              "18           -          -       -                     Action               \n",
              "19     156 min        7.3     231  Biography, Drama, History               \n",
              "20     122 min        6.0     459     Comedy, Drama, Romance               \n",
              "21           -          -       -      Crime, Drama, Romance               \n",
              "22           -          -       -                   Thriller               \n",
              "23           -          -       -                                      -   \n",
              "24      57 min          -       -                Documentary               \n",
              "25     141 min          -       -                      Drama               \n",
              "26           -          -       -                    Romance               \n",
              "27           -          -       -                     Action               \n",
              "28      92 min        4.1      16                     Horror               \n",
              "29           -          -       -                                      -   \n",
              "30           -        7.1      98     Action, Crime, Musical               \n",
              "31           -          -       -                      Drama               \n",
              "32           -          -       -                      Drama               \n",
              "33     158 min        6.6     160            Family, Romance               \n",
              "34           -          -       -                      Drama               \n",
              "35           -        5.4      11       Action, Crime, Drama               \n",
              "36           -          -       -                      Drama               \n",
              "37           -        4.4       7             Drama, Romance               \n",
              "38           -        6.0       6                     Comedy               \n",
              "39     134 min        6.0   1,312              Comedy, Drama               \n",
              "40     170 min        7.6   8,284    Action, Comedy, Fantasy               \n",
              "41     134 min        5.1     118           Action, Thriller               \n",
              "42     166 min          -       -                     Action               \n",
              "43           -          -       -                      Drama               \n",
              "44           -          -       -                    Musical               \n",
              "45     145 min        6.9     110                    Romance               \n",
              "46     156 min          -       -                      Drama               \n",
              "47           -          -       -                                      -   \n",
              "48     120 min        8.1      40             Drama, Musical               \n",
              "49      12 min        8.2      25     Short, Drama, Thriller               \n",
              "\n",
              "     Language  \n",
              "0       hindi  \n",
              "1        urdu  \n",
              "2       hindi  \n",
              "3        urdu  \n",
              "4       hindi  \n",
              "5       hindi  \n",
              "6       hindi  \n",
              "7        urdu  \n",
              "8       hindi  \n",
              "9     bengali  \n",
              "10     telugu  \n",
              "11     nepali  \n",
              "12   sanskrit  \n",
              "13      hindi  \n",
              "14       urdu  \n",
              "15      tamil  \n",
              "16    kannada  \n",
              "17     nepali  \n",
              "18      hindi  \n",
              "19    marathi  \n",
              "20  malayalam  \n",
              "21      hindi  \n",
              "22      hindi  \n",
              "23      tamil  \n",
              "24       urdu  \n",
              "25     telugu  \n",
              "26     telugu  \n",
              "27      hindi  \n",
              "28      hindi  \n",
              "29      hindi  \n",
              "30      hindi  \n",
              "31      hindi  \n",
              "32      hindi  \n",
              "33     telugu  \n",
              "34    bengali  \n",
              "35      hindi  \n",
              "36   bhojpuri  \n",
              "37      hindi  \n",
              "38      hindi  \n",
              "39      hindi  \n",
              "40     telugu  \n",
              "41    kannada  \n",
              "42      hindi  \n",
              "43     telugu  \n",
              "44       urdu  \n",
              "45     telugu  \n",
              "46    kannada  \n",
              "47      hindi  \n",
              "48  malayalam  \n",
              "49       urdu  "
            ]
          },
          "execution_count": 4,
          "metadata": {},
          "output_type": "execute_result"
        }
      ],
      "source": [
        "df.head(50)"
      ]
    },
    {
      "cell_type": "code",
      "execution_count": null,
      "metadata": {
        "id": "X7G2n-bimhJq",
        "outputId": "99837812-7c69-4438-c16b-27cae9e5a474"
      },
      "outputs": [
        {
          "data": {
            "text/html": [
              "<div>\n",
              "<style scoped>\n",
              "    .dataframe tbody tr th:only-of-type {\n",
              "        vertical-align: middle;\n",
              "    }\n",
              "\n",
              "    .dataframe tbody tr th {\n",
              "        vertical-align: top;\n",
              "    }\n",
              "\n",
              "    .dataframe thead th {\n",
              "        text-align: right;\n",
              "    }\n",
              "</style>\n",
              "<table border=\"1\" class=\"dataframe\">\n",
              "  <thead>\n",
              "    <tr style=\"text-align: right;\">\n",
              "      <th></th>\n",
              "      <th>ID</th>\n",
              "      <th>Movie Name</th>\n",
              "      <th>Year</th>\n",
              "      <th>Timing(min)</th>\n",
              "      <th>Rating(10)</th>\n",
              "      <th>Votes</th>\n",
              "      <th>Genre</th>\n",
              "      <th>Language</th>\n",
              "    </tr>\n",
              "  </thead>\n",
              "  <tbody>\n",
              "    <tr>\n",
              "      <th>count</th>\n",
              "      <td>50602</td>\n",
              "      <td>50602</td>\n",
              "      <td>49041</td>\n",
              "      <td>50602</td>\n",
              "      <td>50602</td>\n",
              "      <td>50602</td>\n",
              "      <td>50602</td>\n",
              "      <td>50602</td>\n",
              "    </tr>\n",
              "    <tr>\n",
              "      <th>unique</th>\n",
              "      <td>46106</td>\n",
              "      <td>42442</td>\n",
              "      <td>579</td>\n",
              "      <td>259</td>\n",
              "      <td>92</td>\n",
              "      <td>2951</td>\n",
              "      <td>718</td>\n",
              "      <td>19</td>\n",
              "    </tr>\n",
              "    <tr>\n",
              "      <th>top</th>\n",
              "      <td>-</td>\n",
              "      <td>Alif Laila</td>\n",
              "      <td>2018</td>\n",
              "      <td>-</td>\n",
              "      <td>-</td>\n",
              "      <td>-</td>\n",
              "      <td>Drama</td>\n",
              "      <td>hindi</td>\n",
              "    </tr>\n",
              "    <tr>\n",
              "      <th>freq</th>\n",
              "      <td>2508</td>\n",
              "      <td>167</td>\n",
              "      <td>1934</td>\n",
              "      <td>25892</td>\n",
              "      <td>26926</td>\n",
              "      <td>26925</td>\n",
              "      <td>13529</td>\n",
              "      <td>14350</td>\n",
              "    </tr>\n",
              "  </tbody>\n",
              "</table>\n",
              "</div>"
            ],
            "text/plain": [
              "           ID   Movie Name   Year Timing(min) Rating(10)  Votes  \\\n",
              "count   50602        50602  49041       50602      50602  50602   \n",
              "unique  46106        42442    579         259         92   2951   \n",
              "top         -   Alif Laila   2018           -          -      -   \n",
              "freq     2508          167   1934       25892      26926  26925   \n",
              "\n",
              "                    Genre Language  \n",
              "count               50602    50602  \n",
              "unique                718       19  \n",
              "top     Drama                hindi  \n",
              "freq                13529    14350  "
            ]
          },
          "execution_count": 7,
          "metadata": {},
          "output_type": "execute_result"
        }
      ],
      "source": [
        "df.describe()"
      ]
    },
    {
      "cell_type": "markdown",
      "metadata": {
        "id": "zPTOspd70Pyp"
      },
      "source": [
        "# **Perform the following task on Dataset using Pandas** 🐼"
      ]
    },
    {
      "cell_type": "markdown",
      "metadata": {
        "id": "RH5l_SUX0izE"
      },
      "source": [
        "## Change **Timing(min)** column name to **runTime**"
      ]
    },
    {
      "cell_type": "code",
      "execution_count": null,
      "metadata": {
        "id": "6KlwZodN0iOF"
      },
      "outputs": [],
      "source": [
        "# Answer Here"
      ]
    },
    {
      "cell_type": "code",
      "execution_count": null,
      "metadata": {
        "id": "9FJXwIoumhJs"
      },
      "outputs": [],
      "source": [
        "change=df.rename(columns={\"Timing(min)\":\"runtime\"},inplace=True)\n",
        "change"
      ]
    },
    {
      "cell_type": "markdown",
      "metadata": {
        "id": "hgAzXJeT0u7j"
      },
      "source": [
        "## Change **multiple columns** in **single line** \n",
        "1. **Rating(10)** to **ratings**\n",
        "2. **Votes** to **votes**\n",
        "3. **Movie Name** to **movie**"
      ]
    },
    {
      "cell_type": "code",
      "execution_count": null,
      "metadata": {
        "id": "bMccnvCAzXWO"
      },
      "outputs": [],
      "source": [
        "# Answer Here"
      ]
    },
    {
      "cell_type": "code",
      "execution_count": null,
      "metadata": {
        "id": "u-Z1EgTEmhJs"
      },
      "outputs": [],
      "source": [
        "change=df.rename(columns={\"Rating(10)\":\"rating\",\"Votes\":\"votes\",\"Movie Name\":\"movie\"},inplace=True)\n",
        "change"
      ]
    },
    {
      "cell_type": "markdown",
      "metadata": {
        "id": "CjXBmani4QOO"
      },
      "source": [
        "## Count number of movies having **NULL** runTime"
      ]
    },
    {
      "cell_type": "code",
      "execution_count": null,
      "metadata": {
        "id": "X6-thob14t9u"
      },
      "outputs": [],
      "source": [
        "# Answer Here"
      ]
    },
    {
      "cell_type": "code",
      "execution_count": null,
      "metadata": {
        "id": "u4SDpGAnmhJt",
        "outputId": "878b07e4-7ceb-46b6-dd8b-15192e82d13c"
      },
      "outputs": [
        {
          "data": {
            "text/plain": [
              "0"
            ]
          },
          "execution_count": 146,
          "metadata": {},
          "output_type": "execute_result"
        }
      ],
      "source": [
        "df[\"runtime\"].isnull().sum()"
      ]
    },
    {
      "cell_type": "markdown",
      "metadata": {
        "id": "qI6EflXF66ce"
      },
      "source": [
        "## Print the runTime which is **most common**"
      ]
    },
    {
      "cell_type": "code",
      "execution_count": null,
      "metadata": {
        "id": "5LnHXhLf47dH"
      },
      "outputs": [],
      "source": [
        "# Answer Here"
      ]
    },
    {
      "cell_type": "code",
      "execution_count": null,
      "metadata": {
        "id": "ANdtN7c0mhJt",
        "outputId": "8c3a5343-446d-4b42-87cb-4de6cdf48082"
      },
      "outputs": [
        {
          "data": {
            "text/plain": [
              "-            25892\n",
              "120 min        835\n",
              "130 min        660\n",
              "140 min        642\n",
              "135 min        627\n",
              "             ...  \n",
              "209 min          1\n",
              "1,008 min        1\n",
              "1,716 min        1\n",
              "2,288 min        1\n",
              "212 min          1\n",
              "Name: runtime, Length: 259, dtype: int64"
            ]
          },
          "execution_count": 158,
          "metadata": {},
          "output_type": "execute_result"
        }
      ],
      "source": [
        "df[\"runtime\"].value_counts()"
      ]
    },
    {
      "cell_type": "code",
      "execution_count": null,
      "metadata": {
        "id": "D1O7ak18mhJt",
        "outputId": "0db020a6-004a-4126-f60b-37137fc377a5"
      },
      "outputs": [
        {
          "data": {
            "text/plain": [
              "0    -\n",
              "Name: runtime, dtype: object"
            ]
          },
          "execution_count": 159,
          "metadata": {},
          "output_type": "execute_result"
        }
      ],
      "source": [
        "df[\"runtime\"].mode()"
      ]
    },
    {
      "cell_type": "markdown",
      "metadata": {
        "id": "pTf2MPRG7nH6"
      },
      "source": [
        "## Print the movie Name which have the **Highest runTime**"
      ]
    },
    {
      "cell_type": "code",
      "execution_count": null,
      "metadata": {
        "id": "qdp_3XUI5fSP"
      },
      "outputs": [],
      "source": [
        "# Answer Here"
      ]
    },
    {
      "cell_type": "code",
      "execution_count": null,
      "metadata": {
        "id": "VcITJQ1vmhJu"
      },
      "outputs": [],
      "source": [
        "a=df[\"runtime\"].unique()"
      ]
    },
    {
      "cell_type": "code",
      "execution_count": null,
      "metadata": {
        "id": "bO-_FItEmhJu",
        "outputId": "77358300-c574-47e0-e4b4-258e4a462301"
      },
      "outputs": [
        {
          "name": "stdout",
          "output_type": "stream",
          "text": [
            "Pepsi Top of the Pops\n"
          ]
        }
      ],
      "source": [
        "for i in range(len(df)):\n",
        "    a=df[\"movie\"][i]\n",
        "    b=df[\"runtime\"][i]\n",
        "    if b=='2,565 min':\n",
        "        print(a)"
      ]
    },
    {
      "cell_type": "code",
      "execution_count": null,
      "metadata": {
        "id": "l_1HTE3hmhJu",
        "outputId": "17d4db09-6d31-4645-8a40-09be8c600f47"
      },
      "outputs": [
        {
          "name": "stdout",
          "output_type": "stream",
          "text": [
            "              ID                          movie       Year  runtime rating  \\\n",
            "30209  tt3883040  Sarkar Sahab Aka Evicted Lord  2007–2008  936 min    8.8   \n",
            "44151  tt3883040  Sarkar Sahab Aka Evicted Lord  2007–2008  936 min    8.8   \n",
            "\n",
            "      votes              Genre Language  \n",
            "30209     5  Drama                oriya  \n",
            "44151     5  Drama                 urdu  \n"
          ]
        }
      ],
      "source": [
        "a = df[df['movie'] == 'Sarkar Sahab Aka Evicted Lord']\n",
        "print(a)"
      ]
    },
    {
      "cell_type": "markdown",
      "metadata": {
        "id": "_OcoIir08Ev7"
      },
      "source": [
        "## Print the movie name with **Longest title**"
      ]
    },
    {
      "cell_type": "code",
      "execution_count": null,
      "metadata": {
        "id": "ucylCzqk7atI"
      },
      "outputs": [],
      "source": [
        "# Answer Here"
      ]
    },
    {
      "cell_type": "code",
      "execution_count": null,
      "metadata": {
        "id": "2V9KK6k_mhJu",
        "outputId": "58468d92-a228-4e7b-ee8f-90f3e04ab330"
      },
      "outputs": [
        {
          "name": "stdout",
          "output_type": "stream",
          "text": [
            "Shree Shree Rajadhiraja Shree Shree Madana Kamaraja Shree Shree Vilasa Raja Shree Shree Madhubana Raja Shree Shree Krishnadeva Donga Raja\n"
          ]
        }
      ],
      "source": [
        "l = 0\n",
        "l1 = []\n",
        "a = df['movie']\n",
        "for i in a:\n",
        "    if len(i) > l:\n",
        "        l = len(i)\n",
        "        l1.append(i)\n",
        "print(l1[-1])"
      ]
    },
    {
      "cell_type": "code",
      "execution_count": null,
      "metadata": {
        "id": "mK6oVgtdmhJv"
      },
      "outputs": [],
      "source": [
        "# # Answer Here\n",
        "# l = []\n",
        "# for i in df['runtime']:\n",
        "#   if i[0] != \"-\":\n",
        "#     l.append(i)\n",
        "\n",
        "# l1 = []\n",
        "# for i in l:\n",
        "#   if i not in l1:\n",
        "#     l1.append(i)\n",
        "# print(l1)\n",
        "\n",
        "# l2 = []\n",
        "# for i in l:\n",
        "#   a = i[:3]\n",
        "#   l2.append(a)\n",
        "# print(l2)\n",
        "# l3 = []\n",
        "# for i in l2:\n",
        "#   if i.isdigit():\n",
        "#     l3.append(i)\n",
        "\n",
        "# a = 0\n",
        "# for i in l3:\n",
        "#   i = int(i)\n",
        "#   if i > a:\n",
        "#     a = i\n",
        "# print(a)\n",
        "\n",
        "# b2 = []\n",
        "# for i in range(len(df)):\n",
        "#   b = df['runtime'][i]\n",
        "#   if str(a) in b:\n",
        "#     b1 = df['movie'][i]\n",
        "#     b2.append(b1)\n",
        "# print(b2)\n",
        "\n",
        "# a = df[df['movie'] == 'Sarkar Sahab Aka Evicted Lord']\n",
        "# print(a)"
      ]
    },
    {
      "cell_type": "markdown",
      "metadata": {
        "id": "x74loGcX8T3v"
      },
      "source": [
        "## Count the **movies** with respect to their **languages**  "
      ]
    },
    {
      "cell_type": "code",
      "execution_count": null,
      "metadata": {
        "id": "M9fPeH-J8uHA"
      },
      "outputs": [],
      "source": [
        "# Answer Here"
      ]
    },
    {
      "cell_type": "code",
      "execution_count": null,
      "metadata": {
        "id": "F6CJgQ_NmhJw"
      },
      "outputs": [],
      "source": [
        "a=df.groupby(df[\"Language\"])"
      ]
    },
    {
      "cell_type": "code",
      "execution_count": null,
      "metadata": {
        "id": "Qk35C-vkmhJw",
        "outputId": "32c9fa19-c62a-4836-e88c-0271d2735c97"
      },
      "outputs": [
        {
          "data": {
            "text/plain": [
              "hindi        14350\n",
              "malayalam     6200\n",
              "tamil         6000\n",
              "telugu        5300\n",
              "bengali       4200\n",
              "urdu          3447\n",
              "kannada       3233\n",
              "marathi       2300\n",
              "punjabi       1800\n",
              "nepali        1000\n",
              "oriya          850\n",
              "gujarati       700\n",
              "bhojpuri       500\n",
              "assamese       450\n",
              "rajastani      100\n",
              "sanskrit        48\n",
              "kashmiri        43\n",
              "konkani         43\n",
              "tulu            38\n",
              "Name: Language, dtype: int64"
            ]
          },
          "execution_count": 279,
          "metadata": {},
          "output_type": "execute_result"
        }
      ],
      "source": [
        "df[\"Language\"].value_counts()"
      ]
    },
    {
      "cell_type": "markdown",
      "metadata": {
        "id": "5VQVVeHS9CuF"
      },
      "source": [
        "## List all the **action movies** which where released in **1995 to 1997**"
      ]
    },
    {
      "cell_type": "code",
      "execution_count": null,
      "metadata": {
        "id": "L73HKzDR9O_Z"
      },
      "outputs": [],
      "source": [
        "# Answer Here"
      ]
    },
    {
      "cell_type": "code",
      "execution_count": null,
      "metadata": {
        "id": "xUGeN9pzmhJw"
      },
      "outputs": [],
      "source": [
        "# a=np.where(df[\"Year\"]>=1995)\n",
        "# a"
      ]
    },
    {
      "cell_type": "code",
      "execution_count": null,
      "metadata": {
        "id": "brKsIZfemhJx"
      },
      "outputs": [],
      "source": [
        "for i in df[\"Year\"]:\n",
        "    if i==\"1995\" and i==\"1997\":\n",
        "        print(i)"
      ]
    },
    {
      "cell_type": "code",
      "execution_count": null,
      "metadata": {
        "id": "j1a1nDjzmhJx",
        "outputId": "69caf3f1-82d4-480a-d402-98bd51048dc3"
      },
      "outputs": [
        {
          "data": {
            "text/plain": [
              "2018    1934\n",
              "2019    1892\n",
              "2017    1678\n",
              "2016    1509\n",
              "2015    1339\n",
              "2020    1284\n",
              "2014    1269\n",
              "2021    1156\n",
              "2013    1134\n",
              "2010     974\n",
              "2012     963\n",
              "2011     905\n",
              "2009     820\n",
              "2008     785\n",
              "2005     759\n",
              "2007     692\n",
              "2006     654\n",
              "1991     637\n",
              "2003     636\n",
              "1985     636\n",
              "2004     629\n",
              "1990     618\n",
              "2002     607\n",
              "1984     607\n",
              "1989     595\n",
              "1982     594\n",
              "1992     593\n",
              "1986     579\n",
              "2001     575\n",
              "1983     573\n",
              "1981     571\n",
              "1988     570\n",
              "1993     570\n",
              "1978     551\n",
              "1987     543\n",
              "1980     525\n",
              "2000     522\n",
              "1979     510\n",
              "1994     487\n",
              "1995     480\n",
              "1977     450\n",
              "1999     444\n",
              "1997     429\n",
              "1998     427\n",
              "1996     427\n",
              "1975     420\n",
              "1976     404\n",
              "1971     393\n",
              "1968     393\n",
              "1974     387\n",
              "Name: Year, dtype: int64"
            ]
          },
          "execution_count": 301,
          "metadata": {},
          "output_type": "execute_result"
        }
      ],
      "source": [
        "df[\"Year\"].value_counts()[:50]"
      ]
    },
    {
      "cell_type": "code",
      "execution_count": null,
      "metadata": {
        "id": "Bdz-fihImhJx",
        "outputId": "c13b9ded-bdd3-43aa-d838-890c97960b1a"
      },
      "outputs": [
        {
          "name": "stdout",
          "output_type": "stream",
          "text": [
            "<class 'pandas.core.frame.DataFrame'>\n",
            "RangeIndex: 50602 entries, 0 to 50601\n",
            "Data columns (total 8 columns):\n",
            " #   Column    Non-Null Count  Dtype \n",
            "---  ------    --------------  ----- \n",
            " 0   ID        50602 non-null  object\n",
            " 1   movie     50602 non-null  object\n",
            " 2   Year      49041 non-null  object\n",
            " 3   runtime   50602 non-null  object\n",
            " 4   rating    50602 non-null  object\n",
            " 5   votes     50602 non-null  object\n",
            " 6   Genre     50602 non-null  object\n",
            " 7   Language  50602 non-null  object\n",
            "dtypes: object(8)\n",
            "memory usage: 3.1+ MB\n"
          ]
        }
      ],
      "source": [
        "df.info()"
      ]
    },
    {
      "cell_type": "code",
      "execution_count": null,
      "metadata": {
        "id": "TGQI1xoXmhJx",
        "outputId": "d3c8df05-2e89-4860-ece0-1bd164f851e3"
      },
      "outputs": [
        {
          "data": {
            "text/plain": [
              "(50602, 8)"
            ]
          },
          "execution_count": 139,
          "metadata": {},
          "output_type": "execute_result"
        }
      ],
      "source": [
        "df.shape"
      ]
    },
    {
      "cell_type": "code",
      "execution_count": null,
      "metadata": {
        "id": "bmSSeeI7mhJx",
        "outputId": "c6f4710b-3ce9-46b4-d9ac-57879760fda2"
      },
      "outputs": [
        {
          "data": {
            "text/plain": [
              "0        1960\n",
              "1        1968\n",
              "2        2006\n",
              "3        1987\n",
              "4        1956\n",
              "         ... \n",
              "50597    1984\n",
              "50598    1971\n",
              "50599    1936\n",
              "50600    1990\n",
              "50601    2009\n",
              "Name: Year, Length: 50602, dtype: object"
            ]
          },
          "execution_count": 302,
          "metadata": {},
          "output_type": "execute_result"
        }
      ],
      "source": [
        "df[\"Year\"]"
      ]
    },
    {
      "cell_type": "markdown",
      "metadata": {
        "id": "sJUd-r5h_v5u"
      },
      "source": [
        "## Count Total **Comedy Movies**"
      ]
    },
    {
      "cell_type": "code",
      "execution_count": null,
      "metadata": {
        "id": "Ya7XVb5L_11h"
      },
      "outputs": [],
      "source": [
        "# Answer Here"
      ]
    },
    {
      "cell_type": "code",
      "execution_count": null,
      "metadata": {
        "id": "Mnyi8JBQmhJy",
        "outputId": "c17b8777-d12e-4f87-981d-85c207981d84"
      },
      "outputs": [
        {
          "data": {
            "text/plain": [
              "Drama                                       13529\n",
              "-                                            8581\n",
              "Action                                       2464\n",
              "Comedy                                       2172\n",
              "Romance                                      2032\n",
              "                                            ...  \n",
              "Musical, Adventure, Drama                       1\n",
              "Action, Thriller, Western                       1\n",
              "Documentary, Family, Musical                    1\n",
              "Biography, Music                                1\n",
              "Horror, Fantasy                                 1\n",
              "Name: Genre, Length: 718, dtype: int64"
            ]
          },
          "execution_count": 303,
          "metadata": {},
          "output_type": "execute_result"
        }
      ],
      "source": [
        "df[\"Genre\"].value_counts()"
      ]
    },
    {
      "cell_type": "markdown",
      "metadata": {
        "id": "HzqHapbSAG-t"
      },
      "source": [
        "## Count the movies which have ratings less then 3"
      ]
    },
    {
      "cell_type": "code",
      "execution_count": null,
      "metadata": {
        "id": "9CZKLWMtANBq"
      },
      "outputs": [],
      "source": [
        "# Answer Here"
      ]
    },
    {
      "cell_type": "code",
      "execution_count": null,
      "metadata": {
        "id": "vn-bnN3ZmhJy",
        "outputId": "14238e90-3146-46b1-a85a-e0d9f3e1a5fc"
      },
      "outputs": [
        {
          "name": "stdout",
          "output_type": "stream",
          "text": [
            "27402\n"
          ]
        }
      ],
      "source": [
        "count=0\n",
        "for i in range(len(df)):\n",
        "    a=df[\"movie\"][i]\n",
        "    b=df[\"rating\"][i]\n",
        "    if b<'3.0':\n",
        "        count+=1\n",
        "print(count)"
      ]
    },
    {
      "cell_type": "markdown",
      "metadata": {
        "id": "NAv8JaanANf4"
      },
      "source": [
        "## List the Hightest rated Movies per decade\n",
        "\n",
        "```\n",
        "1940s : Moive Name : rating\n",
        "1950s : Movie Name : rating\n",
        "1960s : Movie Name : rating\n",
        "1970s : Movie Name : rating\n",
        "1980s : Movie Name : rating\n",
        ".\n",
        ".\n",
        ".\n",
        "```"
      ]
    },
    {
      "cell_type": "code",
      "execution_count": null,
      "metadata": {
        "id": "tA3sYdRqBWrB"
      },
      "outputs": [],
      "source": [
        "# Answer Here"
      ]
    },
    {
      "cell_type": "code",
      "execution_count": null,
      "metadata": {
        "id": "rjB-InBRmhJy"
      },
      "outputs": [],
      "source": [
        "df[\"rating\"].replace('-',0,inplace=True)"
      ]
    },
    {
      "cell_type": "code",
      "execution_count": null,
      "metadata": {
        "id": "nJ28NfqvmhJy"
      },
      "outputs": [],
      "source": [
        "a=df[\"rating\"].astype(float)"
      ]
    },
    {
      "cell_type": "code",
      "execution_count": null,
      "metadata": {
        "id": "Ikef852TmhJy",
        "outputId": "25aca3d5-2a4f-4365-f218-92df9e7ab236"
      },
      "outputs": [
        {
          "data": {
            "text/plain": [
              "23850    10.0\n",
              "42441    10.0\n",
              "34577    10.0\n",
              "23887    10.0\n",
              "31301    10.0\n",
              "32076    10.0\n",
              "39105    10.0\n",
              "7812     10.0\n",
              "30151    10.0\n",
              "12028     9.9\n",
              "11575     9.9\n",
              "5105      9.9\n",
              "729       9.9\n",
              "31833     9.8\n",
              "3660      9.8\n",
              "45152     9.8\n",
              "46237     9.8\n",
              "33642     9.8\n",
              "49819     9.8\n",
              "12685     9.8\n",
              "Name: rating, dtype: float64"
            ]
          },
          "execution_count": 336,
          "metadata": {},
          "output_type": "execute_result"
        }
      ],
      "source": [
        "a.sort_values(ascending=False)[0:20]"
      ]
    },
    {
      "cell_type": "code",
      "execution_count": null,
      "metadata": {
        "id": "HARydSAtmhJz",
        "outputId": "d33959ad-b7af-4f82-f1cb-e1165cbc376a"
      },
      "outputs": [
        {
          "name": "stdout",
          "output_type": "stream",
          "text": [
            "2021 Bihari Binani\n"
          ]
        }
      ],
      "source": [
        "for i in range(len(df)):\n",
        "    a=df[\"movie\"][i]\n",
        "    b=df[\"Year\"][i]\n",
        "    if i==23850:\n",
        "        print(b,a)"
      ]
    },
    {
      "cell_type": "code",
      "execution_count": null,
      "metadata": {
        "id": "6bypLux8mhJz"
      },
      "outputs": [],
      "source": [
        "a=df[\"movie\"][23850],df[\"Year\"][23850]\n",
        "b=df[\"movie\"][42441],df[\"Year\"][42441]\n",
        "c=df[\"movie\"][34577],df[\"Year\"][34577]\n",
        "d=df[\"movie\"][23887],df[\"Year\"][23887]\n",
        "e=df[\"movie\"][31301],df[\"Year\"][31301]\n",
        "f=df[\"movie\"][32076],df[\"Year\"][32076]\n",
        "g=df[\"movie\"][39105],df[\"Year\"][39105]\n",
        "h=df[\"movie\"][7812],df[\"Year\"][7812]\n",
        "i=df[\"movie\"][30151],df[\"Year\"][30151]"
      ]
    },
    {
      "cell_type": "code",
      "execution_count": null,
      "metadata": {
        "id": "w0BEhq2-mhJz",
        "outputId": "2e42fe3b-f5e0-498d-89df-8e9e083ee272"
      },
      "outputs": [
        {
          "name": "stdout",
          "output_type": "stream",
          "text": [
            "('Bihari Binani', '2021') ('Antak', '2019') ('An Extraordinary Journey', '2018') ('Marasim - Beyond Borders', '2020') ('Harsukh', '2021') ('Ashi Fasli Nanachi Tang', '2011') ('Harsukh', '2021') ('Ilu-Ilu', '2020') ('Marasim - Beyond Borders', '2020')\n"
          ]
        }
      ],
      "source": [
        "print(a,b,c,d,e,f,g,h,i)"
      ]
    },
    {
      "cell_type": "markdown",
      "metadata": {
        "id": "egq0D-uSBp-8"
      },
      "source": [
        "## Find the movie with most votes in Bengali Language"
      ]
    },
    {
      "cell_type": "code",
      "execution_count": null,
      "metadata": {
        "id": "PyUtVK-6BxAg"
      },
      "outputs": [],
      "source": [
        "# Answer Here"
      ]
    },
    {
      "cell_type": "code",
      "execution_count": null,
      "metadata": {
        "id": "h_M-MZNLmhJz"
      },
      "outputs": [],
      "source": [
        "l=[]\n",
        "for i in range(len(df)):\n",
        "    a=df[\"Language\"][i]\n",
        "    b=df[\"votes\"][i]\n",
        "    if a==\"bengali\":\n",
        "        l.append(b)"
      ]
    },
    {
      "cell_type": "code",
      "execution_count": null,
      "metadata": {
        "id": "Xa5pMVCcmhJz"
      },
      "outputs": [],
      "source": [
        "a=pd.Series(l)"
      ]
    },
    {
      "cell_type": "code",
      "execution_count": null,
      "metadata": {
        "id": "48y8ba84mhJz",
        "outputId": "962bea1c-ba2a-44f8-9033-116f861ebaf2"
      },
      "outputs": [
        {
          "data": {
            "text/plain": [
              "3008    996\n",
              "1630    993\n",
              "3658    993\n",
              "2079     99\n",
              "3063     99\n",
              "       ... \n",
              "1125      -\n",
              "2619      -\n",
              "2618      -\n",
              "2617      -\n",
              "2100      -\n",
              "Length: 4200, dtype: object"
            ]
          },
          "execution_count": 446,
          "metadata": {},
          "output_type": "execute_result"
        }
      ],
      "source": [
        "a.sort_values(ascending=False)"
      ]
    },
    {
      "cell_type": "code",
      "execution_count": null,
      "metadata": {
        "id": "15sBIfZ4mhJ0",
        "outputId": "b2ac68b6-362e-4e7d-af7b-0dbdcd5309db"
      },
      "outputs": [
        {
          "data": {
            "text/plain": [
              "array(['12', '-', '8', '402', '267', '10', '6', '198', '133', '197',\n",
              "       '145', '852', '9', '367', '91', '23', '27', '43', '58', '55',\n",
              "       '1,045', '46', '212', '15', '154', '19', '107', '40', '1,944',\n",
              "       '56', '24', '627', '30', '5', '1,243', '41', '11', '110', '39',\n",
              "       '415', '70', '229', '1,068', '2,196', '13', '64', '317', '29',\n",
              "       '182', '14', '173', '21', '164', '216', '571', '183', '48',\n",
              "       '3,508', '71', '7', '180', '47', '547', '432', '54', '382', '334',\n",
              "       '292', '743', '178', '625', '20', '57', '241', '1,315', '26',\n",
              "       '479', '135', '243', '1,118', '25', '16', '32', '1,439', '44',\n",
              "       '444', '167', '38', '35', '157', '272', '122', '258', '1,049',\n",
              "       '265', '545', '31', '330', '68', '937', '150', '73', '17', '18',\n",
              "       '1,426', '84', '88', '61', '1,348', '170', '505', '106', '66',\n",
              "       '4,719', '80', '42', '72', '63', '490', '822', '36', '161', '141',\n",
              "       '138', '121', '245', '100', '85', '144', '447', '375', '194', '52',\n",
              "       '81', '203', '76', '1,460', '739', '652', '213', '223', '69', '22',\n",
              "       '576', '139', '410', '1,097', '790', '608', '462', '125', '2,818',\n",
              "       '214', '28', '441', '160', '500', '5,245', '288', '53', '45',\n",
              "       '2,547', '1,904', '131', '1,751', '583', '593', '4,190', '65',\n",
              "       '77', '843', '94', '204', '60', '102', '67', '49', '257', '1,075',\n",
              "       '437', '546', '331', '1,356', '105', '116', '855', '1,395', '449',\n",
              "       '124', '162', '196', '711', '83', '101', '171', '353', '977',\n",
              "       '4,253', '34', '542', '356', '1,052', '2,588', '117', '93', '166',\n",
              "       '1,482', '2,356', '3,549', '62', '618', '595', '1,107', '371',\n",
              "       '1,312', '148', '3,036', '1,037', '115', '845', '764', '544',\n",
              "       '307', '108', '12,386', '205', '329', '33', '578', '79', '2,048',\n",
              "       '129', '237', '266', '682', '74', '273', '51', '366', '78', '99',\n",
              "       '443', '950', '304', '128', '1,566', '309', '142', '146', '397',\n",
              "       '89', '2,406', '398', '1,252', '177', '800', '193', '619', '299',\n",
              "       '282', '297', '806', '153', '581', '159', '289', '227', '457',\n",
              "       '523', '59', '303', '858', '191', '8,542', '37', '993', '322',\n",
              "       '1,088', '217', '653', '605', '327', '1,653', '1,136', '519',\n",
              "       '206', '1,572', '461', '390', '1,584', '136', '109', '700', '377',\n",
              "       '919', '185', '373', '333', '111', '126', '1,919', '181', '467',\n",
              "       '394', '434', '392', '211', '147', '348', '718', '582', '230',\n",
              "       '1,266', '130', '1,263', '552', '119', '226', '1,890', '1,138',\n",
              "       '277', '218', '401', '2,290', '1,173', '2,767', '791', '374',\n",
              "       '228', '408', '596', '1,756', '1,057', '82', '134', '137', '219',\n",
              "       '2,108', '174', '165', '856', '413', '5,291', '276', '310', '246',\n",
              "       '143', '188', '406', '240', '75', '763', '728', '3,317', '1,535',\n",
              "       '1,510', '302', '1,137', '339', '380', '896', '801', '1,171', '98',\n",
              "       '4,938', '24,153', '354', '658', '391', '2,886', '1,611', '494',\n",
              "       '248', '113', '1,456', '87', '833', '549', '233', '515', '476',\n",
              "       '1,434', '420', '404', '96', '326', '231', '2,239', '168', '290',\n",
              "       '501', '149', '674', '222', '253', '3,744', '996', '250', '782',\n",
              "       '295', '862', '242', '261', '103', '308', '418', '298', '195',\n",
              "       '466', '477', '1,295', '598', '23,557', '151', '724', '200', '269',\n",
              "       '264', '403', '1,209', '3,517', '118', '2,047', '2,331', '278',\n",
              "       '336', '1,116', '399', '209', '556', '175', '3,840', '478', '202',\n",
              "       '661', '502', '11,954', '283', '881', '510', '428', '97', '1,046',\n",
              "       '6,499', '1,241', '251', '885', '340', '321', '860', '826', '716',\n",
              "       '365', '294', '965', '363', '359', '1,910', '163', '780', '872',\n",
              "       '368', '1,516', '284', '179', '86', '232', '512', '622', '132',\n",
              "       '186', '1,716', '140', '285', '694', '2,123', '873', '2,475',\n",
              "       '1,664', '844', '3,093', '2,510', '985', '224', '857', '817',\n",
              "       '442'], dtype=object)"
            ]
          },
          "execution_count": 447,
          "metadata": {},
          "output_type": "execute_result"
        }
      ],
      "source": [
        "a.unique()"
      ]
    },
    {
      "cell_type": "code",
      "execution_count": null,
      "metadata": {
        "id": "wP7TZyHlmhJ0"
      },
      "outputs": [],
      "source": [
        "b=a.replace('-',0)"
      ]
    },
    {
      "cell_type": "code",
      "execution_count": null,
      "metadata": {
        "id": "wzYBlVi1mhJ0"
      },
      "outputs": [],
      "source": [
        "c=b.unique()"
      ]
    },
    {
      "cell_type": "code",
      "execution_count": null,
      "metadata": {
        "id": "IuoZea41mhJ0",
        "outputId": "0d6cb589-e89c-4e83-c117-d73bc26e53b5"
      },
      "outputs": [
        {
          "data": {
            "text/plain": [
              "307      1\n",
              "544      1\n",
              "845      1\n",
              "1,566    1\n",
              "309      1\n",
              "397      1\n",
              "2,406    1\n",
              "398      1\n",
              "1,252    1\n",
              "443      1\n",
              "177      1\n",
              "193      1\n",
              "619      1\n",
              "299      1\n",
              "282      1\n",
              "806      1\n",
              "581      1\n",
              "227      1\n",
              "800      1\n",
              "457      1\n",
              "366      1\n",
              "682      1\n",
              "3,549    1\n",
              "618      1\n",
              "595      1\n",
              "1,107    1\n",
              "1,312    1\n",
              "3,036    1\n",
              "1,037    1\n",
              "273      1\n",
              "111      1\n",
              "1,460    1\n",
              "333      1\n",
              "653      1\n",
              "822      1\n",
              "141      1\n",
              "121      1\n",
              "245      1\n",
              "1,348    1\n",
              "144      1\n",
              "1,315    1\n",
              "625      1\n",
              "852      1\n",
              "1,045    1\n",
              "1,944    1\n",
              "627      1\n",
              "490      1\n",
              "1,243    1\n",
              "1,068    1\n",
              "241      1\n",
              "dtype: int64"
            ]
          },
          "execution_count": 457,
          "metadata": {},
          "output_type": "execute_result"
        }
      ],
      "source": [
        "c.sort_values(ascending=True)[150:200]"
      ]
    },
    {
      "cell_type": "code",
      "execution_count": null,
      "metadata": {
        "id": "Q7cbA5HDmhJ0"
      },
      "outputs": [],
      "source": [
        "l=[]\n",
        "for i in range(len(df)):\n",
        "    a=df[\"votes\"][i]\n",
        "    b=df[\"movie\"][i]\n",
        "    if a=='24,153':\n",
        "        l.append(b)"
      ]
    },
    {
      "cell_type": "code",
      "execution_count": null,
      "metadata": {
        "id": "Am03Ht_qmhJ0",
        "outputId": "9e2ca369-1404-4e5d-8e85-946bc6d05a1a"
      },
      "outputs": [
        {
          "data": {
            "text/plain": [
              "['Pather Panchali']"
            ]
          },
          "execution_count": 430,
          "metadata": {},
          "output_type": "execute_result"
        }
      ],
      "source": [
        "l"
      ]
    },
    {
      "cell_type": "code",
      "execution_count": null,
      "metadata": {
        "id": "jiED3EjPmhJ0"
      },
      "outputs": [],
      "source": [
        "c=b.value_counts()"
      ]
    },
    {
      "cell_type": "code",
      "execution_count": null,
      "metadata": {
        "id": "-lpAnXvxmhJ1",
        "outputId": "0bb59c9e-6f9b-4945-be3e-e24f96d22ac2"
      },
      "outputs": [
        {
          "data": {
            "text/plain": [
              "0        2155\n",
              "8         111\n",
              "5         101\n",
              "6          89\n",
              "10         84\n",
              "         ... \n",
              "397         1\n",
              "309         1\n",
              "1,566       1\n",
              "950         1\n",
              "442         1\n",
              "Length: 487, dtype: int64"
            ]
          },
          "execution_count": 439,
          "metadata": {},
          "output_type": "execute_result"
        }
      ],
      "source": [
        "c"
      ]
    },
    {
      "cell_type": "code",
      "execution_count": null,
      "metadata": {
        "id": "LQ9VkFuimhJ1",
        "outputId": "2f8c4a67-2329-4c43-e4a1-20baf9a669ae"
      },
      "outputs": [
        {
          "data": {
            "text/plain": [
              "233         1\n",
              "288         1\n",
              "2,547       1\n",
              "1,904       1\n",
              "1,751       1\n",
              "         ... \n",
              "10         84\n",
              "6          89\n",
              "5         101\n",
              "8         111\n",
              "0        2155\n",
              "Length: 487, dtype: int64"
            ]
          },
          "execution_count": 440,
          "metadata": {},
          "output_type": "execute_result"
        }
      ],
      "source": [
        "c.sort_values(ascending=True)"
      ]
    }
  ],
  "metadata": {
    "colab": {
      "provenance": [],
      "include_colab_link": true
    },
    "kernelspec": {
      "display_name": "Python 3 (ipykernel)",
      "language": "python",
      "name": "python3"
    },
    "language_info": {
      "codemirror_mode": {
        "name": "ipython",
        "version": 3
      },
      "file_extension": ".py",
      "mimetype": "text/x-python",
      "name": "python",
      "nbconvert_exporter": "python",
      "pygments_lexer": "ipython3",
      "version": "3.10.0"
    }
  },
  "nbformat": 4,
  "nbformat_minor": 0
}